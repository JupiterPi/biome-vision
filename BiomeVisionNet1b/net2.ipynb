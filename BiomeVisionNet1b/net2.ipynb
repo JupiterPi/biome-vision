{
 "cells": [
  {
   "cell_type": "code",
   "execution_count": 1,
   "metadata": {
    "collapsed": true,
    "pycharm": {
     "name": "#%%\n"
    }
   },
   "outputs": [],
   "source": [
    "import numpy as np\n",
    "import tensorflow as tf\n",
    "from tensorflow import keras\n",
    "from tensorflow.keras import models, layers\n",
    "import matplotlib.pyplot as plt\n",
    "\n",
    "from PIL import Image\n",
    "import colorsys\n",
    "import math"
   ]
  },
  {
   "cell_type": "code",
   "execution_count": 2,
   "outputs": [
    {
     "name": "stdout",
     "output_type": "stream",
     "text": [
      "Found 59103 files belonging to 18 classes.\n",
      "Using 47283 files for training.\n",
      "Found 59103 files belonging to 18 classes.\n",
      "Using 11820 files for validation.\n"
     ]
    }
   ],
   "source": [
    "ds_train = keras.utils.image_dataset_from_directory(\n",
    "    \"C:\\\\Private\\\\BiomeVision\\\\dataset-03--09-04-2022---1-out-grouped\",\n",
    "    image_size=(256,128),\n",
    "    seed=123,\n",
    "    validation_split=0.2,\n",
    "    subset=\"training\"\n",
    ")\n",
    "ds_validation = keras.utils.image_dataset_from_directory(\n",
    "    \"C:\\\\Private\\\\BiomeVision\\\\dataset-03--09-04-2022---1-out-grouped\",\n",
    "    image_size=(256,128),\n",
    "    seed=123,\n",
    "    validation_split=0.2,\n",
    "    subset=\"validation\"\n",
    ")"
   ],
   "metadata": {
    "collapsed": false,
    "pycharm": {
     "name": "#%%\n"
    }
   }
  },
  {
   "cell_type": "code",
   "execution_count": 15,
   "outputs": [
    {
     "data": {
      "text/plain": "['badlands',\n 'birch_forest',\n 'cave',\n 'dark_forest',\n 'desert',\n 'flower_forest',\n 'forest',\n 'ice',\n 'jungle',\n 'mountain',\n 'mycelium',\n 'ocean',\n 'plains',\n 'river',\n 'savanna',\n 'snowy',\n 'swamp',\n 'taiga']"
     },
     "execution_count": 15,
     "metadata": {},
     "output_type": "execute_result"
    }
   ],
   "source": [
    "ds_train.class_names"
   ],
   "metadata": {
    "collapsed": false,
    "pycharm": {
     "name": "#%%\n"
    }
   }
  },
  {
   "cell_type": "code",
   "execution_count": 12,
   "outputs": [],
   "source": [
    "class MyLayer(layers.Layer):\n",
    "    def __int__(self):\n",
    "        super()\n",
    "\n",
    "    def call(self, inputs):\n",
    "        print(\"called: \")\n",
    "        print(inputs)\n",
    "        return inputs"
   ],
   "metadata": {
    "collapsed": false,
    "pycharm": {
     "name": "#%%\n"
    }
   }
  },
  {
   "cell_type": "code",
   "execution_count": 114,
   "outputs": [],
   "source": [
    "class ColorExtractionnnnnn(layers.Layer):\n",
    "    def __int__(self, **kwargs):\n",
    "        super(ColorExtraction, self).__init__(**kwargs)\n",
    "\n",
    "    def call(self, inputs):\n",
    "        print(\"called: \")\n",
    "        print(inputs)\n",
    "        return inputs"
   ],
   "metadata": {
    "collapsed": false,
    "pycharm": {
     "name": "#%%\n"
    }
   }
  },
  {
   "cell_type": "code",
   "execution_count": 188,
   "outputs": [],
   "source": [
    "class ColorExtraction(layers.Layer):\n",
    "    def __int__(self, **kwargs):\n",
    "        super(ColorExtraction, self).__init__(**kwargs)\n",
    "\n",
    "    def call(self, inputs):\n",
    "        print(\"called: \")\n",
    "        print(inputs)\n",
    "\n",
    "        colors = {}\n",
    "\n",
    "        for r in range(26):\n",
    "            r = r * 10\n",
    "            for g in range(26):\n",
    "                g = g * 10\n",
    "                for b in range(26):\n",
    "                    b = b * 10\n",
    "                    color = (r, g, b)\n",
    "                    colors[color] = 0\n",
    "\n",
    "        if hasattr(inputs, \"numpy\"):\n",
    "            for pixel in inputs.numpy().reshape(-1, 3):\n",
    "                (r, g, b) = pixel[0], pixel[1], pixel[2]\n",
    "                r = math.floor(r / 10) * 10\n",
    "                g = math.floor(g / 10) * 10\n",
    "                b = math.floor(b / 10) * 10\n",
    "                color = (float(r), float(g), float(b))\n",
    "                colors[color] += 1\n",
    "\n",
    "        arr = np.array(list(colors.values()))\n",
    "        arr = arr / ( np.zeros(arr.shape) + (inputs.shape[1]*inputs.shape[2] / 3) )\n",
    "        result = tf.expand_dims(tf.convert_to_tensor(arr), 0)\n",
    "\n",
    "        print(\"result shape: \")\n",
    "        print(result.shape)\n",
    "\n",
    "        return result"
   ],
   "metadata": {
    "collapsed": false,
    "pycharm": {
     "name": "#%%\n"
    }
   }
  },
  {
   "cell_type": "code",
   "execution_count": 4,
   "outputs": [],
   "source": [
    "class ColorExtraction2(layers.experimental.preprocessing.PreprocessingLayer):\n",
    "    def __init__(self, **kwargs):\n",
    "        super(ColorExtraction2, self).__init__(**kwargs)\n",
    "\n",
    "    def call(self, inputs):\n",
    "        print(\"called: \")\n",
    "        print(inputs)\n",
    "\n",
    "        colors = {}\n",
    "\n",
    "        for r in range(26):\n",
    "            r = r * 10\n",
    "            for g in range(26):\n",
    "                g = g * 10\n",
    "                for b in range(26):\n",
    "                    b = b * 10\n",
    "                    color = (r, g, b)\n",
    "                    colors[color] = 0\n",
    "\n",
    "        if hasattr(inputs, \"numpy\"):\n",
    "            for pixel in inputs.numpy().reshape(-1, 3):\n",
    "                (r, g, b) = pixel[0], pixel[1], pixel[2]\n",
    "                r = math.floor(r / 10) * 10\n",
    "                g = math.floor(g / 10) * 10\n",
    "                b = math.floor(b / 10) * 10\n",
    "                color = (float(r), float(g), float(b))\n",
    "                colors[color] += 1\n",
    "\n",
    "        arr = np.array(list(colors.values()))\n",
    "        arr = arr / ( np.zeros(arr.shape) + (inputs.shape[1]*inputs.shape[2] / 3) )\n",
    "        result = tf.expand_dims(tf.convert_to_tensor(arr), 0)\n",
    "\n",
    "        print(\"result shape: \")\n",
    "        print(result.shape)\n",
    "\n",
    "        return result"
   ],
   "metadata": {
    "collapsed": false,
    "pycharm": {
     "name": "#%%\n"
    }
   }
  },
  {
   "cell_type": "code",
   "execution_count": 126,
   "outputs": [
    {
     "name": "stdout",
     "output_type": "stream",
     "text": [
      "Epoch 1/2\n",
      "called: \n",
      "Tensor(\"Placeholder:0\", shape=(None, 256, 128, 3), dtype=float32)\n",
      "result shape: \n",
      "(1, 17576)\n",
      "called: \n",
      "Tensor(\"IteratorGetNext:0\", shape=(None, 256, 128, 3), dtype=float32)\n",
      "result shape: \n",
      "(1, 17576)\n",
      "called: \n",
      "Tensor(\"IteratorGetNext:0\", shape=(None, 256, 128, 3), dtype=float32)\n",
      "result shape: \n",
      "(1, 17576)\n"
     ]
    },
    {
     "ename": "InvalidArgumentError",
     "evalue": "Graph execution error:\n\nDetected at node 'sparse_categorical_crossentropy/SparseSoftmaxCrossEntropyWithLogits/SparseSoftmaxCrossEntropyWithLogits' defined at (most recent call last):\n    File \"C:\\Users\\jupit\\anaconda3\\envs\\tf\\lib\\runpy.py\", line 197, in _run_module_as_main\n      return _run_code(code, main_globals, None,\n    File \"C:\\Users\\jupit\\anaconda3\\envs\\tf\\lib\\runpy.py\", line 87, in _run_code\n      exec(code, run_globals)\n    File \"C:\\Users\\jupit\\anaconda3\\envs\\tf\\lib\\site-packages\\ipykernel_launcher.py\", line 16, in <module>\n      app.launch_new_instance()\n    File \"C:\\Users\\jupit\\anaconda3\\envs\\tf\\lib\\site-packages\\traitlets\\config\\application.py\", line 846, in launch_instance\n      app.start()\n    File \"C:\\Users\\jupit\\anaconda3\\envs\\tf\\lib\\site-packages\\ipykernel\\kernelapp.py\", line 677, in start\n      self.io_loop.start()\n    File \"C:\\Users\\jupit\\anaconda3\\envs\\tf\\lib\\site-packages\\tornado\\platform\\asyncio.py\", line 199, in start\n      self.asyncio_loop.run_forever()\n    File \"C:\\Users\\jupit\\anaconda3\\envs\\tf\\lib\\asyncio\\base_events.py\", line 601, in run_forever\n      self._run_once()\n    File \"C:\\Users\\jupit\\anaconda3\\envs\\tf\\lib\\asyncio\\base_events.py\", line 1905, in _run_once\n      handle._run()\n    File \"C:\\Users\\jupit\\anaconda3\\envs\\tf\\lib\\asyncio\\events.py\", line 80, in _run\n      self._context.run(self._callback, *self._args)\n    File \"C:\\Users\\jupit\\anaconda3\\envs\\tf\\lib\\site-packages\\ipykernel\\kernelbase.py\", line 471, in dispatch_queue\n      await self.process_one()\n    File \"C:\\Users\\jupit\\anaconda3\\envs\\tf\\lib\\site-packages\\ipykernel\\kernelbase.py\", line 460, in process_one\n      await dispatch(*args)\n    File \"C:\\Users\\jupit\\anaconda3\\envs\\tf\\lib\\site-packages\\ipykernel\\kernelbase.py\", line 367, in dispatch_shell\n      await result\n    File \"C:\\Users\\jupit\\anaconda3\\envs\\tf\\lib\\site-packages\\ipykernel\\kernelbase.py\", line 662, in execute_request\n      reply_content = await reply_content\n    File \"C:\\Users\\jupit\\anaconda3\\envs\\tf\\lib\\site-packages\\ipykernel\\ipkernel.py\", line 360, in do_execute\n      res = shell.run_cell(code, store_history=store_history, silent=silent)\n    File \"C:\\Users\\jupit\\anaconda3\\envs\\tf\\lib\\site-packages\\ipykernel\\zmqshell.py\", line 532, in run_cell\n      return super().run_cell(*args, **kwargs)\n    File \"C:\\Users\\jupit\\anaconda3\\envs\\tf\\lib\\site-packages\\IPython\\core\\interactiveshell.py\", line 2863, in run_cell\n      result = self._run_cell(\n    File \"C:\\Users\\jupit\\anaconda3\\envs\\tf\\lib\\site-packages\\IPython\\core\\interactiveshell.py\", line 2909, in _run_cell\n      return runner(coro)\n    File \"C:\\Users\\jupit\\anaconda3\\envs\\tf\\lib\\site-packages\\IPython\\core\\async_helpers.py\", line 129, in _pseudo_sync_runner\n      coro.send(None)\n    File \"C:\\Users\\jupit\\anaconda3\\envs\\tf\\lib\\site-packages\\IPython\\core\\interactiveshell.py\", line 3106, in run_cell_async\n      has_raised = await self.run_ast_nodes(code_ast.body, cell_name,\n    File \"C:\\Users\\jupit\\anaconda3\\envs\\tf\\lib\\site-packages\\IPython\\core\\interactiveshell.py\", line 3309, in run_ast_nodes\n      if await self.run_code(code, result, async_=asy):\n    File \"C:\\Users\\jupit\\anaconda3\\envs\\tf\\lib\\site-packages\\IPython\\core\\interactiveshell.py\", line 3369, in run_code\n      exec(code_obj, self.user_global_ns, self.user_ns)\n    File \"C:\\Users\\jupit\\AppData\\Local\\Temp\\ipykernel_31904\\3918080148.py\", line 24, in <cell line: 24>\n      history = model.fit(\n    File \"C:\\Users\\jupit\\anaconda3\\envs\\tf\\lib\\site-packages\\keras\\utils\\traceback_utils.py\", line 64, in error_handler\n      return fn(*args, **kwargs)\n    File \"C:\\Users\\jupit\\anaconda3\\envs\\tf\\lib\\site-packages\\keras\\engine\\training.py\", line 1384, in fit\n      tmp_logs = self.train_function(iterator)\n    File \"C:\\Users\\jupit\\anaconda3\\envs\\tf\\lib\\site-packages\\keras\\engine\\training.py\", line 1021, in train_function\n      return step_function(self, iterator)\n    File \"C:\\Users\\jupit\\anaconda3\\envs\\tf\\lib\\site-packages\\keras\\engine\\training.py\", line 1010, in step_function\n      outputs = model.distribute_strategy.run(run_step, args=(data,))\n    File \"C:\\Users\\jupit\\anaconda3\\envs\\tf\\lib\\site-packages\\keras\\engine\\training.py\", line 1000, in run_step\n      outputs = model.train_step(data)\n    File \"C:\\Users\\jupit\\anaconda3\\envs\\tf\\lib\\site-packages\\keras\\engine\\training.py\", line 860, in train_step\n      loss = self.compute_loss(x, y, y_pred, sample_weight)\n    File \"C:\\Users\\jupit\\anaconda3\\envs\\tf\\lib\\site-packages\\keras\\engine\\training.py\", line 918, in compute_loss\n      return self.compiled_loss(\n    File \"C:\\Users\\jupit\\anaconda3\\envs\\tf\\lib\\site-packages\\keras\\engine\\compile_utils.py\", line 201, in __call__\n      loss_value = loss_obj(y_t, y_p, sample_weight=sw)\n    File \"C:\\Users\\jupit\\anaconda3\\envs\\tf\\lib\\site-packages\\keras\\losses.py\", line 141, in __call__\n      losses = call_fn(y_true, y_pred)\n    File \"C:\\Users\\jupit\\anaconda3\\envs\\tf\\lib\\site-packages\\keras\\losses.py\", line 245, in call\n      return ag_fn(y_true, y_pred, **self._fn_kwargs)\n    File \"C:\\Users\\jupit\\anaconda3\\envs\\tf\\lib\\site-packages\\keras\\losses.py\", line 1862, in sparse_categorical_crossentropy\n      return backend.sparse_categorical_crossentropy(\n    File \"C:\\Users\\jupit\\anaconda3\\envs\\tf\\lib\\site-packages\\keras\\backend.py\", line 5202, in sparse_categorical_crossentropy\n      res = tf.nn.sparse_softmax_cross_entropy_with_logits(\nNode: 'sparse_categorical_crossentropy/SparseSoftmaxCrossEntropyWithLogits/SparseSoftmaxCrossEntropyWithLogits'\nlogits and labels must have the same first dimension, got logits shape [1,18] and labels shape [32]\n\t [[{{node sparse_categorical_crossentropy/SparseSoftmaxCrossEntropyWithLogits/SparseSoftmaxCrossEntropyWithLogits}}]] [Op:__inference_train_function_7664]",
     "output_type": "error",
     "traceback": [
      "\u001B[1;31m---------------------------------------------------------------------------\u001B[0m",
      "\u001B[1;31mInvalidArgumentError\u001B[0m                      Traceback (most recent call last)",
      "Input \u001B[1;32mIn [126]\u001B[0m, in \u001B[0;36m<cell line: 24>\u001B[1;34m()\u001B[0m\n\u001B[0;32m     14\u001B[0m model\u001B[38;5;241m.\u001B[39madd(layers\u001B[38;5;241m.\u001B[39mDense(\u001B[38;5;241m18\u001B[39m, activation\u001B[38;5;241m=\u001B[39m\u001B[38;5;124m\"\u001B[39m\u001B[38;5;124msoftmax\u001B[39m\u001B[38;5;124m\"\u001B[39m))\n\u001B[0;32m     16\u001B[0m model\u001B[38;5;241m.\u001B[39mcompile(\n\u001B[0;32m     17\u001B[0m     optimizer\u001B[38;5;241m=\u001B[39mkeras\u001B[38;5;241m.\u001B[39moptimizers\u001B[38;5;241m.\u001B[39mAdam(),\n\u001B[0;32m     18\u001B[0m     loss\u001B[38;5;241m=\u001B[39m\u001B[38;5;124m\"\u001B[39m\u001B[38;5;124msparse_categorical_crossentropy\u001B[39m\u001B[38;5;124m\"\u001B[39m,\n\u001B[1;32m   (...)\u001B[0m\n\u001B[0;32m     21\u001B[0m     metrics\u001B[38;5;241m=\u001B[39m[\u001B[38;5;124m\"\u001B[39m\u001B[38;5;124maccuracy\u001B[39m\u001B[38;5;124m\"\u001B[39m],\n\u001B[0;32m     22\u001B[0m )\n\u001B[1;32m---> 24\u001B[0m history \u001B[38;5;241m=\u001B[39m \u001B[43mmodel\u001B[49m\u001B[38;5;241;43m.\u001B[39;49m\u001B[43mfit\u001B[49m\u001B[43m(\u001B[49m\n\u001B[0;32m     25\u001B[0m \u001B[43m    \u001B[49m\u001B[43mds_train\u001B[49m\u001B[43m,\u001B[49m\n\u001B[0;32m     26\u001B[0m \u001B[43m    \u001B[49m\u001B[43mepochs\u001B[49m\u001B[38;5;241;43m=\u001B[39;49m\u001B[38;5;241;43m2\u001B[39;49m\u001B[43m,\u001B[49m\n\u001B[0;32m     27\u001B[0m \u001B[43m    \u001B[49m\u001B[43mvalidation_data\u001B[49m\u001B[38;5;241;43m=\u001B[39;49m\u001B[43mds_validation\u001B[49m\u001B[43m,\u001B[49m\n\u001B[0;32m     28\u001B[0m \u001B[43m    \u001B[49m\u001B[43mverbose\u001B[49m\u001B[38;5;241;43m=\u001B[39;49m\u001B[38;5;241;43m1\u001B[39;49m\n\u001B[0;32m     29\u001B[0m \u001B[43m)\u001B[49m\n",
      "File \u001B[1;32m~\\anaconda3\\envs\\tf\\lib\\site-packages\\keras\\utils\\traceback_utils.py:67\u001B[0m, in \u001B[0;36mfilter_traceback.<locals>.error_handler\u001B[1;34m(*args, **kwargs)\u001B[0m\n\u001B[0;32m     65\u001B[0m \u001B[38;5;28;01mexcept\u001B[39;00m \u001B[38;5;167;01mException\u001B[39;00m \u001B[38;5;28;01mas\u001B[39;00m e:  \u001B[38;5;66;03m# pylint: disable=broad-except\u001B[39;00m\n\u001B[0;32m     66\u001B[0m   filtered_tb \u001B[38;5;241m=\u001B[39m _process_traceback_frames(e\u001B[38;5;241m.\u001B[39m__traceback__)\n\u001B[1;32m---> 67\u001B[0m   \u001B[38;5;28;01mraise\u001B[39;00m e\u001B[38;5;241m.\u001B[39mwith_traceback(filtered_tb) \u001B[38;5;28;01mfrom\u001B[39;00m \u001B[38;5;28mNone\u001B[39m\n\u001B[0;32m     68\u001B[0m \u001B[38;5;28;01mfinally\u001B[39;00m:\n\u001B[0;32m     69\u001B[0m   \u001B[38;5;28;01mdel\u001B[39;00m filtered_tb\n",
      "File \u001B[1;32m~\\anaconda3\\envs\\tf\\lib\\site-packages\\tensorflow\\python\\eager\\execute.py:54\u001B[0m, in \u001B[0;36mquick_execute\u001B[1;34m(op_name, num_outputs, inputs, attrs, ctx, name)\u001B[0m\n\u001B[0;32m     52\u001B[0m \u001B[38;5;28;01mtry\u001B[39;00m:\n\u001B[0;32m     53\u001B[0m   ctx\u001B[38;5;241m.\u001B[39mensure_initialized()\n\u001B[1;32m---> 54\u001B[0m   tensors \u001B[38;5;241m=\u001B[39m pywrap_tfe\u001B[38;5;241m.\u001B[39mTFE_Py_Execute(ctx\u001B[38;5;241m.\u001B[39m_handle, device_name, op_name,\n\u001B[0;32m     55\u001B[0m                                       inputs, attrs, num_outputs)\n\u001B[0;32m     56\u001B[0m \u001B[38;5;28;01mexcept\u001B[39;00m core\u001B[38;5;241m.\u001B[39m_NotOkStatusException \u001B[38;5;28;01mas\u001B[39;00m e:\n\u001B[0;32m     57\u001B[0m   \u001B[38;5;28;01mif\u001B[39;00m name \u001B[38;5;129;01mis\u001B[39;00m \u001B[38;5;129;01mnot\u001B[39;00m \u001B[38;5;28;01mNone\u001B[39;00m:\n",
      "\u001B[1;31mInvalidArgumentError\u001B[0m: Graph execution error:\n\nDetected at node 'sparse_categorical_crossentropy/SparseSoftmaxCrossEntropyWithLogits/SparseSoftmaxCrossEntropyWithLogits' defined at (most recent call last):\n    File \"C:\\Users\\jupit\\anaconda3\\envs\\tf\\lib\\runpy.py\", line 197, in _run_module_as_main\n      return _run_code(code, main_globals, None,\n    File \"C:\\Users\\jupit\\anaconda3\\envs\\tf\\lib\\runpy.py\", line 87, in _run_code\n      exec(code, run_globals)\n    File \"C:\\Users\\jupit\\anaconda3\\envs\\tf\\lib\\site-packages\\ipykernel_launcher.py\", line 16, in <module>\n      app.launch_new_instance()\n    File \"C:\\Users\\jupit\\anaconda3\\envs\\tf\\lib\\site-packages\\traitlets\\config\\application.py\", line 846, in launch_instance\n      app.start()\n    File \"C:\\Users\\jupit\\anaconda3\\envs\\tf\\lib\\site-packages\\ipykernel\\kernelapp.py\", line 677, in start\n      self.io_loop.start()\n    File \"C:\\Users\\jupit\\anaconda3\\envs\\tf\\lib\\site-packages\\tornado\\platform\\asyncio.py\", line 199, in start\n      self.asyncio_loop.run_forever()\n    File \"C:\\Users\\jupit\\anaconda3\\envs\\tf\\lib\\asyncio\\base_events.py\", line 601, in run_forever\n      self._run_once()\n    File \"C:\\Users\\jupit\\anaconda3\\envs\\tf\\lib\\asyncio\\base_events.py\", line 1905, in _run_once\n      handle._run()\n    File \"C:\\Users\\jupit\\anaconda3\\envs\\tf\\lib\\asyncio\\events.py\", line 80, in _run\n      self._context.run(self._callback, *self._args)\n    File \"C:\\Users\\jupit\\anaconda3\\envs\\tf\\lib\\site-packages\\ipykernel\\kernelbase.py\", line 471, in dispatch_queue\n      await self.process_one()\n    File \"C:\\Users\\jupit\\anaconda3\\envs\\tf\\lib\\site-packages\\ipykernel\\kernelbase.py\", line 460, in process_one\n      await dispatch(*args)\n    File \"C:\\Users\\jupit\\anaconda3\\envs\\tf\\lib\\site-packages\\ipykernel\\kernelbase.py\", line 367, in dispatch_shell\n      await result\n    File \"C:\\Users\\jupit\\anaconda3\\envs\\tf\\lib\\site-packages\\ipykernel\\kernelbase.py\", line 662, in execute_request\n      reply_content = await reply_content\n    File \"C:\\Users\\jupit\\anaconda3\\envs\\tf\\lib\\site-packages\\ipykernel\\ipkernel.py\", line 360, in do_execute\n      res = shell.run_cell(code, store_history=store_history, silent=silent)\n    File \"C:\\Users\\jupit\\anaconda3\\envs\\tf\\lib\\site-packages\\ipykernel\\zmqshell.py\", line 532, in run_cell\n      return super().run_cell(*args, **kwargs)\n    File \"C:\\Users\\jupit\\anaconda3\\envs\\tf\\lib\\site-packages\\IPython\\core\\interactiveshell.py\", line 2863, in run_cell\n      result = self._run_cell(\n    File \"C:\\Users\\jupit\\anaconda3\\envs\\tf\\lib\\site-packages\\IPython\\core\\interactiveshell.py\", line 2909, in _run_cell\n      return runner(coro)\n    File \"C:\\Users\\jupit\\anaconda3\\envs\\tf\\lib\\site-packages\\IPython\\core\\async_helpers.py\", line 129, in _pseudo_sync_runner\n      coro.send(None)\n    File \"C:\\Users\\jupit\\anaconda3\\envs\\tf\\lib\\site-packages\\IPython\\core\\interactiveshell.py\", line 3106, in run_cell_async\n      has_raised = await self.run_ast_nodes(code_ast.body, cell_name,\n    File \"C:\\Users\\jupit\\anaconda3\\envs\\tf\\lib\\site-packages\\IPython\\core\\interactiveshell.py\", line 3309, in run_ast_nodes\n      if await self.run_code(code, result, async_=asy):\n    File \"C:\\Users\\jupit\\anaconda3\\envs\\tf\\lib\\site-packages\\IPython\\core\\interactiveshell.py\", line 3369, in run_code\n      exec(code_obj, self.user_global_ns, self.user_ns)\n    File \"C:\\Users\\jupit\\AppData\\Local\\Temp\\ipykernel_31904\\3918080148.py\", line 24, in <cell line: 24>\n      history = model.fit(\n    File \"C:\\Users\\jupit\\anaconda3\\envs\\tf\\lib\\site-packages\\keras\\utils\\traceback_utils.py\", line 64, in error_handler\n      return fn(*args, **kwargs)\n    File \"C:\\Users\\jupit\\anaconda3\\envs\\tf\\lib\\site-packages\\keras\\engine\\training.py\", line 1384, in fit\n      tmp_logs = self.train_function(iterator)\n    File \"C:\\Users\\jupit\\anaconda3\\envs\\tf\\lib\\site-packages\\keras\\engine\\training.py\", line 1021, in train_function\n      return step_function(self, iterator)\n    File \"C:\\Users\\jupit\\anaconda3\\envs\\tf\\lib\\site-packages\\keras\\engine\\training.py\", line 1010, in step_function\n      outputs = model.distribute_strategy.run(run_step, args=(data,))\n    File \"C:\\Users\\jupit\\anaconda3\\envs\\tf\\lib\\site-packages\\keras\\engine\\training.py\", line 1000, in run_step\n      outputs = model.train_step(data)\n    File \"C:\\Users\\jupit\\anaconda3\\envs\\tf\\lib\\site-packages\\keras\\engine\\training.py\", line 860, in train_step\n      loss = self.compute_loss(x, y, y_pred, sample_weight)\n    File \"C:\\Users\\jupit\\anaconda3\\envs\\tf\\lib\\site-packages\\keras\\engine\\training.py\", line 918, in compute_loss\n      return self.compiled_loss(\n    File \"C:\\Users\\jupit\\anaconda3\\envs\\tf\\lib\\site-packages\\keras\\engine\\compile_utils.py\", line 201, in __call__\n      loss_value = loss_obj(y_t, y_p, sample_weight=sw)\n    File \"C:\\Users\\jupit\\anaconda3\\envs\\tf\\lib\\site-packages\\keras\\losses.py\", line 141, in __call__\n      losses = call_fn(y_true, y_pred)\n    File \"C:\\Users\\jupit\\anaconda3\\envs\\tf\\lib\\site-packages\\keras\\losses.py\", line 245, in call\n      return ag_fn(y_true, y_pred, **self._fn_kwargs)\n    File \"C:\\Users\\jupit\\anaconda3\\envs\\tf\\lib\\site-packages\\keras\\losses.py\", line 1862, in sparse_categorical_crossentropy\n      return backend.sparse_categorical_crossentropy(\n    File \"C:\\Users\\jupit\\anaconda3\\envs\\tf\\lib\\site-packages\\keras\\backend.py\", line 5202, in sparse_categorical_crossentropy\n      res = tf.nn.sparse_softmax_cross_entropy_with_logits(\nNode: 'sparse_categorical_crossentropy/SparseSoftmaxCrossEntropyWithLogits/SparseSoftmaxCrossEntropyWithLogits'\nlogits and labels must have the same first dimension, got logits shape [1,18] and labels shape [32]\n\t [[{{node sparse_categorical_crossentropy/SparseSoftmaxCrossEntropyWithLogits/SparseSoftmaxCrossEntropyWithLogits}}]] [Op:__inference_train_function_7664]"
     ]
    }
   ],
   "source": [
    "# inputs = layers.Input(shape=(256, 128, 3))\n",
    "# color = ColorExtraction()(inputs)\n",
    "# color = ColorExtraction()(color)\n",
    "# tmp = layers.Flatten(inputs)\n",
    "# outputs = layers.Dense(5, activation=\"softmax\")(tmp)\n",
    "# model = keras.Model(inputs=inputs, outputs=outputs, name=\"custom_color_model\")\n",
    "\n",
    "# data = np.random.rand(256, 128, 3)\n",
    "\n",
    "model = models.Sequential()\n",
    "# model.add(layers.Dense(120, activation=\"relu\"))\n",
    "model.add(ColorExtraction2())\n",
    "model.add(layers.Flatten())\n",
    "model.add(layers.Dense(18, activation=\"softmax\"))\n",
    "\n",
    "model.compile(\n",
    "    optimizer=keras.optimizers.Adam(),\n",
    "    loss=\"sparse_categorical_crossentropy\",\n",
    "    # loss=tf.keras.losses.CategoricalCrossentropy(),\n",
    "    # loss=tf.keras.losses.MeanSquaredError(),\n",
    "    metrics=[\"accuracy\"],\n",
    ")\n",
    "\n",
    "history = model.fit(\n",
    "    ds_train,\n",
    "    epochs=2,\n",
    "    validation_data=ds_validation,\n",
    "    verbose=1\n",
    ")"
   ],
   "metadata": {
    "collapsed": false,
    "pycharm": {
     "name": "#%%\n"
    }
   }
  },
  {
   "cell_type": "code",
   "execution_count": 122,
   "outputs": [
    {
     "name": "stdout",
     "output_type": "stream",
     "text": [
      "Model: \"sequential_11\"\n",
      "_________________________________________________________________\n",
      " Layer (type)                Output Shape              Param #   \n",
      "=================================================================\n",
      " color_extraction2_7 (ColorE  (1, 17576)               0         \n",
      " xtraction2)                                                     \n",
      "                                                                 \n",
      " flatten_1 (Flatten)         (1, 17576)                0         \n",
      "                                                                 \n",
      " dense_11 (Dense)            (1, 18)                   316386    \n",
      "                                                                 \n",
      "=================================================================\n",
      "Total params: 316,386\n",
      "Trainable params: 316,386\n",
      "Non-trainable params: 0\n",
      "_________________________________________________________________\n"
     ]
    }
   ],
   "source": [
    "model.summary()"
   ],
   "metadata": {
    "collapsed": false,
    "pycharm": {
     "name": "#%%\n"
    }
   }
  },
  {
   "cell_type": "code",
   "execution_count": 24,
   "outputs": [
    {
     "name": "stdout",
     "output_type": "stream",
     "text": [
      "\"dot\" with args ['-Tps', 'C:\\\\Users\\\\jupit\\\\AppData\\\\Local\\\\Temp\\\\tmp_0_sj3rw'] returned code: 1\n",
      "\n",
      "stdout, stderr:\n",
      " b''\n",
      "b''\n",
      "\n"
     ]
    },
    {
     "ename": "AssertionError",
     "evalue": "1",
     "output_type": "error",
     "traceback": [
      "\u001B[1;31m---------------------------------------------------------------------------\u001B[0m",
      "\u001B[1;31mAssertionError\u001B[0m                            Traceback (most recent call last)",
      "Input \u001B[1;32mIn [24]\u001B[0m, in \u001B[0;36m<cell line: 1>\u001B[1;34m()\u001B[0m\n\u001B[1;32m----> 1\u001B[0m \u001B[43mkeras\u001B[49m\u001B[38;5;241;43m.\u001B[39;49m\u001B[43mutils\u001B[49m\u001B[38;5;241;43m.\u001B[39;49m\u001B[43mplot_model\u001B[49m\u001B[43m(\u001B[49m\u001B[43mmodel\u001B[49m\u001B[43m,\u001B[49m\u001B[43m \u001B[49m\u001B[43mshow_shapes\u001B[49m\u001B[38;5;241;43m=\u001B[39;49m\u001B[38;5;28;43;01mTrue\u001B[39;49;00m\u001B[43m)\u001B[49m\n",
      "File \u001B[1;32m~\\anaconda3\\envs\\tf\\lib\\site-packages\\keras\\utils\\vis_utils.py:415\u001B[0m, in \u001B[0;36mplot_model\u001B[1;34m(model, to_file, show_shapes, show_dtype, show_layer_names, rankdir, expand_nested, dpi, layer_range, show_layer_activations)\u001B[0m\n\u001B[0;32m    410\u001B[0m \u001B[38;5;28;01mif\u001B[39;00m \u001B[38;5;129;01mnot\u001B[39;00m model\u001B[38;5;241m.\u001B[39mbuilt:\n\u001B[0;32m    411\u001B[0m   \u001B[38;5;28;01mraise\u001B[39;00m \u001B[38;5;167;01mValueError\u001B[39;00m(\u001B[38;5;124m'\u001B[39m\u001B[38;5;124mThis model has not yet been built. \u001B[39m\u001B[38;5;124m'\u001B[39m\n\u001B[0;32m    412\u001B[0m                    \u001B[38;5;124m'\u001B[39m\u001B[38;5;124mBuild the model first by calling `build()` or by calling \u001B[39m\u001B[38;5;124m'\u001B[39m\n\u001B[0;32m    413\u001B[0m                    \u001B[38;5;124m'\u001B[39m\u001B[38;5;124mthe model on a batch of data.\u001B[39m\u001B[38;5;124m'\u001B[39m)\n\u001B[1;32m--> 415\u001B[0m dot \u001B[38;5;241m=\u001B[39m \u001B[43mmodel_to_dot\u001B[49m\u001B[43m(\u001B[49m\n\u001B[0;32m    416\u001B[0m \u001B[43m    \u001B[49m\u001B[43mmodel\u001B[49m\u001B[43m,\u001B[49m\n\u001B[0;32m    417\u001B[0m \u001B[43m    \u001B[49m\u001B[43mshow_shapes\u001B[49m\u001B[38;5;241;43m=\u001B[39;49m\u001B[43mshow_shapes\u001B[49m\u001B[43m,\u001B[49m\n\u001B[0;32m    418\u001B[0m \u001B[43m    \u001B[49m\u001B[43mshow_dtype\u001B[49m\u001B[38;5;241;43m=\u001B[39;49m\u001B[43mshow_dtype\u001B[49m\u001B[43m,\u001B[49m\n\u001B[0;32m    419\u001B[0m \u001B[43m    \u001B[49m\u001B[43mshow_layer_names\u001B[49m\u001B[38;5;241;43m=\u001B[39;49m\u001B[43mshow_layer_names\u001B[49m\u001B[43m,\u001B[49m\n\u001B[0;32m    420\u001B[0m \u001B[43m    \u001B[49m\u001B[43mrankdir\u001B[49m\u001B[38;5;241;43m=\u001B[39;49m\u001B[43mrankdir\u001B[49m\u001B[43m,\u001B[49m\n\u001B[0;32m    421\u001B[0m \u001B[43m    \u001B[49m\u001B[43mexpand_nested\u001B[49m\u001B[38;5;241;43m=\u001B[39;49m\u001B[43mexpand_nested\u001B[49m\u001B[43m,\u001B[49m\n\u001B[0;32m    422\u001B[0m \u001B[43m    \u001B[49m\u001B[43mdpi\u001B[49m\u001B[38;5;241;43m=\u001B[39;49m\u001B[43mdpi\u001B[49m\u001B[43m,\u001B[49m\n\u001B[0;32m    423\u001B[0m \u001B[43m    \u001B[49m\u001B[43mlayer_range\u001B[49m\u001B[38;5;241;43m=\u001B[39;49m\u001B[43mlayer_range\u001B[49m\u001B[43m,\u001B[49m\n\u001B[0;32m    424\u001B[0m \u001B[43m    \u001B[49m\u001B[43mshow_layer_activations\u001B[49m\u001B[38;5;241;43m=\u001B[39;49m\u001B[43mshow_layer_activations\u001B[49m\u001B[43m)\u001B[49m\n\u001B[0;32m    425\u001B[0m to_file \u001B[38;5;241m=\u001B[39m io_utils\u001B[38;5;241m.\u001B[39mpath_to_string(to_file)\n\u001B[0;32m    426\u001B[0m \u001B[38;5;28;01mif\u001B[39;00m dot \u001B[38;5;129;01mis\u001B[39;00m \u001B[38;5;28;01mNone\u001B[39;00m:\n",
      "File \u001B[1;32m~\\anaconda3\\envs\\tf\\lib\\site-packages\\keras\\utils\\vis_utils.py:151\u001B[0m, in \u001B[0;36mmodel_to_dot\u001B[1;34m(model, show_shapes, show_dtype, show_layer_names, rankdir, expand_nested, dpi, subgraph, layer_range, show_layer_activations)\u001B[0m\n\u001B[0;32m    148\u001B[0m \u001B[38;5;28;01mfrom\u001B[39;00m \u001B[38;5;21;01mkeras\u001B[39;00m\u001B[38;5;21;01m.\u001B[39;00m\u001B[38;5;21;01mengine\u001B[39;00m \u001B[38;5;28;01mimport\u001B[39;00m sequential\n\u001B[0;32m    149\u001B[0m \u001B[38;5;28;01mfrom\u001B[39;00m \u001B[38;5;21;01mkeras\u001B[39;00m\u001B[38;5;21;01m.\u001B[39;00m\u001B[38;5;21;01mengine\u001B[39;00m \u001B[38;5;28;01mimport\u001B[39;00m functional\n\u001B[1;32m--> 151\u001B[0m \u001B[38;5;28;01mif\u001B[39;00m \u001B[38;5;129;01mnot\u001B[39;00m \u001B[43mcheck_pydot\u001B[49m\u001B[43m(\u001B[49m\u001B[43m)\u001B[49m:\n\u001B[0;32m    152\u001B[0m   message \u001B[38;5;241m=\u001B[39m (\n\u001B[0;32m    153\u001B[0m       \u001B[38;5;124m'\u001B[39m\u001B[38;5;124mYou must install pydot (`pip install pydot`) \u001B[39m\u001B[38;5;124m'\u001B[39m\n\u001B[0;32m    154\u001B[0m       \u001B[38;5;124m'\u001B[39m\u001B[38;5;124mand install graphviz \u001B[39m\u001B[38;5;124m'\u001B[39m\n\u001B[0;32m    155\u001B[0m       \u001B[38;5;124m'\u001B[39m\u001B[38;5;124m(see instructions at https://graphviz.gitlab.io/download/) \u001B[39m\u001B[38;5;124m'\u001B[39m\n\u001B[0;32m    156\u001B[0m       \u001B[38;5;124m'\u001B[39m\u001B[38;5;124mfor plot_model/model_to_dot to work.\u001B[39m\u001B[38;5;124m'\u001B[39m)\n\u001B[0;32m    157\u001B[0m   \u001B[38;5;28;01mif\u001B[39;00m \u001B[38;5;124m'\u001B[39m\u001B[38;5;124mIPython.core.magics.namespace\u001B[39m\u001B[38;5;124m'\u001B[39m \u001B[38;5;129;01min\u001B[39;00m sys\u001B[38;5;241m.\u001B[39mmodules:\n\u001B[0;32m    158\u001B[0m     \u001B[38;5;66;03m# We don't raise an exception here in order to avoid crashing notebook\u001B[39;00m\n\u001B[0;32m    159\u001B[0m     \u001B[38;5;66;03m# tests where graphviz is not available.\u001B[39;00m\n",
      "File \u001B[1;32m~\\anaconda3\\envs\\tf\\lib\\site-packages\\keras\\utils\\vis_utils.py:51\u001B[0m, in \u001B[0;36mcheck_pydot\u001B[1;34m()\u001B[0m\n\u001B[0;32m     47\u001B[0m   \u001B[38;5;28;01mreturn\u001B[39;00m \u001B[38;5;28;01mFalse\u001B[39;00m\n\u001B[0;32m     48\u001B[0m \u001B[38;5;28;01mtry\u001B[39;00m:\n\u001B[0;32m     49\u001B[0m   \u001B[38;5;66;03m# Attempt to create an image of a blank graph\u001B[39;00m\n\u001B[0;32m     50\u001B[0m   \u001B[38;5;66;03m# to check the pydot/graphviz installation.\u001B[39;00m\n\u001B[1;32m---> 51\u001B[0m   \u001B[43mpydot\u001B[49m\u001B[38;5;241;43m.\u001B[39;49m\u001B[43mDot\u001B[49m\u001B[38;5;241;43m.\u001B[39;49m\u001B[43mcreate\u001B[49m\u001B[43m(\u001B[49m\u001B[43mpydot\u001B[49m\u001B[38;5;241;43m.\u001B[39;49m\u001B[43mDot\u001B[49m\u001B[43m(\u001B[49m\u001B[43m)\u001B[49m\u001B[43m)\u001B[49m\n\u001B[0;32m     52\u001B[0m   \u001B[38;5;28;01mreturn\u001B[39;00m \u001B[38;5;28;01mTrue\u001B[39;00m\n\u001B[0;32m     53\u001B[0m \u001B[38;5;28;01mexcept\u001B[39;00m (\u001B[38;5;167;01mOSError\u001B[39;00m, pydot\u001B[38;5;241m.\u001B[39mInvocationException):\n",
      "File \u001B[1;32m~\\anaconda3\\envs\\tf\\lib\\site-packages\\pydot.py:1945\u001B[0m, in \u001B[0;36mDot.create\u001B[1;34m(self, prog, format, encoding)\u001B[0m\n\u001B[0;32m   1933\u001B[0m     message \u001B[38;5;241m=\u001B[39m (\n\u001B[0;32m   1934\u001B[0m         \u001B[38;5;124m'\u001B[39m\u001B[38;5;124m\"\u001B[39m\u001B[38;5;132;01m{prog}\u001B[39;00m\u001B[38;5;124m\"\u001B[39m\u001B[38;5;124m with args \u001B[39m\u001B[38;5;132;01m{arguments}\u001B[39;00m\u001B[38;5;124m returned code: \u001B[39m\u001B[38;5;132;01m{code}\u001B[39;00m\u001B[38;5;130;01m\\n\u001B[39;00m\u001B[38;5;130;01m\\n\u001B[39;00m\u001B[38;5;124m'\u001B[39m\n\u001B[0;32m   1935\u001B[0m         \u001B[38;5;124m'\u001B[39m\u001B[38;5;124mstdout, stderr:\u001B[39m\u001B[38;5;130;01m\\n\u001B[39;00m\u001B[38;5;124m \u001B[39m\u001B[38;5;132;01m{out}\u001B[39;00m\u001B[38;5;130;01m\\n\u001B[39;00m\u001B[38;5;132;01m{err}\u001B[39;00m\u001B[38;5;130;01m\\n\u001B[39;00m\u001B[38;5;124m'\u001B[39m\n\u001B[1;32m   (...)\u001B[0m\n\u001B[0;32m   1941\u001B[0m         err\u001B[38;5;241m=\u001B[39mstderr_data,\n\u001B[0;32m   1942\u001B[0m     )\n\u001B[0;32m   1943\u001B[0m     \u001B[38;5;28mprint\u001B[39m(message)\n\u001B[1;32m-> 1945\u001B[0m \u001B[38;5;28;01massert\u001B[39;00m process\u001B[38;5;241m.\u001B[39mreturncode \u001B[38;5;241m==\u001B[39m \u001B[38;5;241m0\u001B[39m, process\u001B[38;5;241m.\u001B[39mreturncode\n\u001B[0;32m   1947\u001B[0m \u001B[38;5;28;01mreturn\u001B[39;00m stdout_data\n",
      "\u001B[1;31mAssertionError\u001B[0m: 1"
     ]
    }
   ],
   "source": [
    "keras.utils.plot_model(model, show_shapes=True)"
   ],
   "metadata": {
    "collapsed": false,
    "pycharm": {
     "name": "#%%\n"
    }
   }
  },
  {
   "cell_type": "code",
   "execution_count": 11,
   "outputs": [],
   "source": [
    "inputs = keras.Input(shape=(256, 128, 3))\n",
    "x = layers.Conv2D(6, (5,5), activation=\"relu\")(inputs)\n",
    "x = layers.MaxPooling2D((2,2))(x)\n",
    "x = layers.Conv2D(16, (5,5), activation=\"relu\")(x)\n",
    "x = layers.MaxPooling2D((2,2))(x)\n",
    "x = layers.Dropout(0.25)(x)\n",
    "x = layers.Flatten()(x)\n",
    "x = layers.Dense(120, activation=\"relu\")(x)\n",
    "x = layers.Dense(100, activation=\"relu\")(x)\n",
    "x = layers.Dropout(0.5)(x)\n",
    "outputs = layers.Dense(18, activation=\"softmax\")(x)\n",
    "model = keras.Model(inputs=inputs, outputs=outputs, name=\"custom_model\")"
   ],
   "metadata": {
    "collapsed": false,
    "pycharm": {
     "name": "#%%\n"
    }
   }
  },
  {
   "cell_type": "code",
   "execution_count": 12,
   "outputs": [],
   "source": [
    "model.compile(\n",
    "    optimizer=keras.optimizers.Adam(),\n",
    "    loss=tf.keras.losses.SparseCategoricalCrossentropy(),\n",
    "    metrics=[\"accuracy\"],\n",
    ")"
   ],
   "metadata": {
    "collapsed": false,
    "pycharm": {
     "name": "#%%\n"
    }
   }
  },
  {
   "cell_type": "code",
   "execution_count": 13,
   "outputs": [
    {
     "name": "stdout",
     "output_type": "stream",
     "text": [
      "Epoch 1/10\n",
      "1478/1478 [==============================] - 218s 147ms/step - loss: 3.3752 - accuracy: 0.5516 - val_loss: 0.9567 - val_accuracy: 0.7207\n",
      "Epoch 2/10\n",
      "1478/1478 [==============================] - 213s 144ms/step - loss: 1.0413 - accuracy: 0.6964 - val_loss: 0.9326 - val_accuracy: 0.7206\n",
      "Epoch 3/10\n",
      "1478/1478 [==============================] - 205s 139ms/step - loss: 0.8970 - accuracy: 0.7364 - val_loss: 0.9068 - val_accuracy: 0.7336\n",
      "Epoch 4/10\n",
      "1478/1478 [==============================] - 206s 139ms/step - loss: 0.8390 - accuracy: 0.7535 - val_loss: 1.0588 - val_accuracy: 0.7063\n",
      "Epoch 5/10\n",
      "1478/1478 [==============================] - 202s 137ms/step - loss: 0.7364 - accuracy: 0.7791 - val_loss: 1.0383 - val_accuracy: 0.7284\n",
      "Epoch 6/10\n",
      "1478/1478 [==============================] - 205s 138ms/step - loss: 0.7039 - accuracy: 0.7894 - val_loss: 1.0622 - val_accuracy: 0.7305\n",
      "Epoch 7/10\n",
      "1478/1478 [==============================] - 205s 139ms/step - loss: 0.6260 - accuracy: 0.8130 - val_loss: 1.0702 - val_accuracy: 0.7414\n",
      "Epoch 8/10\n",
      "1478/1478 [==============================] - 203s 138ms/step - loss: 0.5917 - accuracy: 0.8223 - val_loss: 1.1075 - val_accuracy: 0.7401\n",
      "Epoch 9/10\n",
      "1478/1478 [==============================] - 205s 139ms/step - loss: 0.5583 - accuracy: 0.8336 - val_loss: 1.1577 - val_accuracy: 0.7391\n",
      "Epoch 10/10\n",
      "1478/1478 [==============================] - 221s 149ms/step - loss: 0.5144 - accuracy: 0.8488 - val_loss: 1.2327 - val_accuracy: 0.7493\n"
     ]
    }
   ],
   "source": [
    "history = model.fit(\n",
    "    ds_train,\n",
    "    epochs=10,\n",
    "    validation_data=ds_validation,\n",
    "    verbose=1\n",
    ")"
   ],
   "metadata": {
    "collapsed": false,
    "pycharm": {
     "name": "#%%\n"
    }
   }
  },
  {
   "cell_type": "code",
   "execution_count": 14,
   "outputs": [
    {
     "name": "stdout",
     "output_type": "stream",
     "text": [
      "INFO:tensorflow:Assets written to: C:\\Private\\BiomeVision\\model1-2022-06-01b\\assets\n"
     ]
    }
   ],
   "source": [
    "model.save(\"C:\\Private\\BiomeVision\\model1-2022-06-01b\")"
   ],
   "metadata": {
    "collapsed": false,
    "pycharm": {
     "name": "#%%\n"
    }
   }
  },
  {
   "cell_type": "code",
   "execution_count": 8,
   "outputs": [
    {
     "name": "stdout",
     "output_type": "stream",
     "text": [
      "Model: \"sequential\"\n",
      "_________________________________________________________________\n",
      " Layer (type)                Output Shape              Param #   \n",
      "=================================================================\n",
      " conv2d (Conv2D)             (None, 252, 124, 6)       456       \n",
      "                                                                 \n",
      " max_pooling2d (MaxPooling2D  (None, 126, 62, 6)       0         \n",
      " )                                                               \n",
      "                                                                 \n",
      " conv2d_1 (Conv2D)           (None, 122, 58, 16)       2416      \n",
      "                                                                 \n",
      " max_pooling2d_1 (MaxPooling  (None, 61, 29, 16)       0         \n",
      " 2D)                                                             \n",
      "                                                                 \n",
      " dropout (Dropout)           (None, 61, 29, 16)        0         \n",
      "                                                                 \n",
      " flatten (Flatten)           (None, 28304)             0         \n",
      "                                                                 \n",
      " dense (Dense)               (None, 120)               3396600   \n",
      "                                                                 \n",
      " dense_1 (Dense)             (None, 100)               12100     \n",
      "                                                                 \n",
      " dropout_1 (Dropout)         (None, 100)               0         \n",
      "                                                                 \n",
      " dense_2 (Dense)             (None, 50)                5050      \n",
      "                                                                 \n",
      "=================================================================\n",
      "Total params: 3,416,622\n",
      "Trainable params: 3,416,622\n",
      "Non-trainable params: 0\n",
      "_________________________________________________________________\n"
     ]
    }
   ],
   "source": [
    "model.summary()"
   ],
   "metadata": {
    "collapsed": false,
    "pycharm": {
     "name": "#%%\n"
    }
   }
  },
  {
   "cell_type": "code",
   "execution_count": 60,
   "outputs": [
    {
     "data": {
      "text/plain": "<Figure size 432x288 with 1 Axes>",
      "image/png": "[encoded data removed]"
     },
     "metadata": {
      "needs_background": "light"
     },
     "output_type": "display_data"
    }
   ],
   "source": [
    "plt.plot(history.history['accuracy'], label='Trainingsdaten')\n",
    "plt.plot(history.history['val_accuracy'], label = 'Testdaten')\n",
    "plt.xlabel('Epoch'), plt.ylabel('Accuracy'), plt.legend(loc='lower right')\n",
    "plt.show()"
   ],
   "metadata": {
    "collapsed": false,
    "pycharm": {
     "name": "#%%\n"
    }
   }
  }
 ],
 "metadata": {
  "kernelspec": {
   "display_name": "Python 3",
   "language": "python",
   "name": "python3"
  },
  "language_info": {
   "codemirror_mode": {
    "name": "ipython",
    "version": 2
   },
   "file_extension": ".py",
   "mimetype": "text/x-python",
   "name": "python",
   "nbconvert_exporter": "python",
   "pygments_lexer": "ipython2",
   "version": "2.7.6"
  }
 },
 "nbformat": 4,
 "nbformat_minor": 0
}