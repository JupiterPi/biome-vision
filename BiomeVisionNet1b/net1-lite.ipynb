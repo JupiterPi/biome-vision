{
 "cells": [
  {
   "cell_type": "code",
   "execution_count": 1,
   "metadata": {
    "collapsed": true,
    "pycharm": {
     "name": "#%%\n"
    }
   },
   "outputs": [],
   "source": [
    "import tensorflow as tf\n",
    "from tensorflow import keras\n",
    "from tensorflow.keras import models, layers\n",
    "import matplotlib.pyplot as plt"
   ]
  },
  {
   "cell_type": "code",
   "execution_count": 2,
   "outputs": [
    {
     "name": "stdout",
     "output_type": "stream",
     "text": [
      "Found 43434 files belonging to 6 classes.\n",
      "Using 34748 files for training.\n",
      "Found 43434 files belonging to 6 classes.\n",
      "Using 8686 files for validation.\n"
     ]
    }
   ],
   "source": [
    "ds_train = keras.utils.image_dataset_from_directory(\n",
    "    \"C:\\\\Private\\\\BiomeVision\\\\dataset-03--09-04-2022---1-out-grouped-lite\",\n",
    "    image_size=(256,128),\n",
    "    seed=123,\n",
    "    validation_split=0.2,\n",
    "    subset=\"training\"\n",
    ")\n",
    "ds_validation = keras.utils.image_dataset_from_directory(\n",
    "    \"C:\\\\Private\\\\BiomeVision\\\\dataset-03--09-04-2022---1-out-grouped-lite\",\n",
    "    image_size=(256,128),\n",
    "    seed=123,\n",
    "    validation_split=0.2,\n",
    "    subset=\"validation\"\n",
    ")"
   ],
   "metadata": {
    "collapsed": false,
    "pycharm": {
     "name": "#%%\n"
    }
   }
  },
  {
   "cell_type": "code",
   "execution_count": 3,
   "outputs": [
    {
     "data": {
      "text/plain": "['desert', 'forest', 'jungle', 'plains', 'river', 'taiga']"
     },
     "execution_count": 3,
     "metadata": {},
     "output_type": "execute_result"
    }
   ],
   "source": [
    "ds_train.class_names"
   ],
   "metadata": {
    "collapsed": false,
    "pycharm": {
     "name": "#%%\n"
    }
   }
  },
  {
   "cell_type": "code",
   "execution_count": 4,
   "outputs": [],
   "source": [
    "model = models.Sequential()\n",
    "model.add(layers.MaxPooling2D((2,2))) # added\n",
    "model.add(layers.Conv2D(6, (5,5), activation=\"relu\")) # 5,5   # removed temporarily\n",
    "model.add(layers.MaxPooling2D((2,2)))   # removed temporarily\n",
    "model.add(layers.Conv2D(16, (5,5), activation=\"relu\")) # 5,20   # removed temporarily\n",
    "model.add(layers.MaxPooling2D((2,2)))   # removed temporarily\n",
    "model.add(layers.Dropout(0.25))\n",
    "model.add(layers.Flatten())\n",
    "model.add(layers.Dense(120, activation=\"relu\"))\n",
    "model.add(layers.Dense(100, activation=\"relu\"))\n",
    "model.add(layers.Dropout(0.5))\n",
    "model.add(layers.Dense(6, activation=\"softmax\"))"
   ],
   "metadata": {
    "collapsed": false,
    "pycharm": {
     "name": "#%%\n"
    }
   }
  },
  {
   "cell_type": "code",
   "execution_count": 5,
   "outputs": [],
   "source": [
    "model.compile(\n",
    "    optimizer=keras.optimizers.Adam(),\n",
    "    loss=tf.keras.losses.SparseCategoricalCrossentropy(from_logits=True),\n",
    "    metrics=[\"accuracy\"],\n",
    ")"
   ],
   "metadata": {
    "collapsed": false,
    "pycharm": {
     "name": "#%%\n"
    }
   }
  },
  {
   "cell_type": "code",
   "execution_count": null,
   "outputs": [],
   "source": [
    "history = model.fit(\n",
    "        ds_train,\n",
    "        epochs=10,\n",
    "        validation_data=ds_validation,\n",
    "        verbose=1\n",
    "    )"
   ],
   "metadata": {
    "collapsed": false,
    "pycharm": {
     "name": "#%%\n"
    }
   }
  },
  {
   "cell_type": "code",
   "execution_count": 9,
   "outputs": [
    {
     "name": "stdout",
     "output_type": "stream",
     "text": [
      "Epoch 1/10\n",
      "1086/1086 [==============================] - 54s 49ms/step - loss: 0.2934 - accuracy: 0.8999 - val_loss: 0.5516 - val_accuracy: 0.8618\n",
      "Epoch 2/10\n",
      "1086/1086 [==============================] - 53s 49ms/step - loss: 0.2904 - accuracy: 0.9017 - val_loss: 0.6044 - val_accuracy: 0.8458\n",
      "Epoch 3/10\n",
      "1086/1086 [==============================] - 53s 49ms/step - loss: 0.2727 - accuracy: 0.9082 - val_loss: 0.6074 - val_accuracy: 0.8456\n",
      "Epoch 4/10\n",
      "1086/1086 [==============================] - 53s 49ms/step - loss: 0.2710 - accuracy: 0.9095 - val_loss: 0.5954 - val_accuracy: 0.8521\n",
      "Epoch 5/10\n",
      "1086/1086 [==============================] - 53s 49ms/step - loss: 0.2457 - accuracy: 0.9165 - val_loss: 0.6194 - val_accuracy: 0.8526\n",
      "Epoch 6/10\n",
      "1086/1086 [==============================] - 53s 49ms/step - loss: 0.2422 - accuracy: 0.9181 - val_loss: 0.6745 - val_accuracy: 0.8401\n",
      "Epoch 7/10\n",
      "1086/1086 [==============================] - 55s 50ms/step - loss: 0.2451 - accuracy: 0.9174 - val_loss: 0.6575 - val_accuracy: 0.8575\n",
      "Epoch 8/10\n",
      "1086/1086 [==============================] - 54s 50ms/step - loss: 0.2359 - accuracy: 0.9209 - val_loss: 0.6371 - val_accuracy: 0.8568\n",
      "Epoch 9/10\n",
      "1086/1086 [==============================] - 54s 50ms/step - loss: 0.2043 - accuracy: 0.9309 - val_loss: 0.7341 - val_accuracy: 0.8576\n",
      "Epoch 10/10\n",
      "1086/1086 [==============================] - 53s 49ms/step - loss: 0.2145 - accuracy: 0.9276 - val_loss: 0.7175 - val_accuracy: 0.8526\n",
      "INFO:tensorflow:Assets written to: C:\\Private\\BiomeVision\\model1-2022-07-06-lite-cache1\\assets\n",
      "Epoch 1/10\n",
      "1086/1086 [==============================] - 53s 49ms/step - loss: 0.2046 - accuracy: 0.9307 - val_loss: 0.7758 - val_accuracy: 0.8464\n",
      "Epoch 2/10\n",
      "1086/1086 [==============================] - 53s 49ms/step - loss: 0.2037 - accuracy: 0.9326 - val_loss: 0.7202 - val_accuracy: 0.8524\n",
      "Epoch 3/10\n",
      "1086/1086 [==============================] - 53s 49ms/step - loss: 0.2121 - accuracy: 0.9304 - val_loss: 0.7515 - val_accuracy: 0.8563\n",
      "Epoch 4/10\n",
      "1086/1086 [==============================] - 53s 49ms/step - loss: 0.1952 - accuracy: 0.9359 - val_loss: 0.7144 - val_accuracy: 0.8570\n",
      "Epoch 5/10\n",
      "1086/1086 [==============================] - 53s 49ms/step - loss: 0.1768 - accuracy: 0.9414 - val_loss: 0.8467 - val_accuracy: 0.8493\n",
      "Epoch 6/10\n",
      "1086/1086 [==============================] - 53s 48ms/step - loss: 0.1791 - accuracy: 0.9417 - val_loss: 0.8260 - val_accuracy: 0.8479\n",
      "Epoch 7/10\n",
      "1086/1086 [==============================] - 53s 49ms/step - loss: 0.1764 - accuracy: 0.9439 - val_loss: 1.0549 - val_accuracy: 0.8485\n",
      "Epoch 8/10\n",
      "1086/1086 [==============================] - 53s 48ms/step - loss: 0.1754 - accuracy: 0.9437 - val_loss: 0.8128 - val_accuracy: 0.8597\n",
      "Epoch 9/10\n",
      "1086/1086 [==============================] - 53s 49ms/step - loss: 0.1701 - accuracy: 0.9449 - val_loss: 0.8528 - val_accuracy: 0.8556\n",
      "Epoch 10/10\n",
      "1086/1086 [==============================] - 53s 49ms/step - loss: 0.1697 - accuracy: 0.9458 - val_loss: 0.9097 - val_accuracy: 0.8435\n",
      "INFO:tensorflow:Assets written to: C:\\Private\\BiomeVision\\model1-2022-07-06-lite-cache2\\assets\n",
      "Epoch 1/10\n",
      "1086/1086 [==============================] - 54s 49ms/step - loss: 0.1611 - accuracy: 0.9468 - val_loss: 0.9229 - val_accuracy: 0.8554\n",
      "Epoch 2/10\n",
      "1086/1086 [==============================] - 52s 48ms/step - loss: 0.1681 - accuracy: 0.9471 - val_loss: 0.9552 - val_accuracy: 0.8551\n",
      "Epoch 3/10\n",
      "1086/1086 [==============================] - 51s 47ms/step - loss: 0.1712 - accuracy: 0.9458 - val_loss: 0.8463 - val_accuracy: 0.8609\n",
      "Epoch 4/10\n",
      "1086/1086 [==============================] - 52s 48ms/step - loss: 0.1638 - accuracy: 0.9479 - val_loss: 0.9908 - val_accuracy: 0.8556\n",
      "Epoch 5/10\n",
      "1086/1086 [==============================] - 53s 49ms/step - loss: 0.1594 - accuracy: 0.9498 - val_loss: 0.8694 - val_accuracy: 0.8576\n",
      "Epoch 6/10\n",
      "1086/1086 [==============================] - 55s 50ms/step - loss: 0.1593 - accuracy: 0.9516 - val_loss: 0.8994 - val_accuracy: 0.8503\n",
      "Epoch 7/10\n",
      "1086/1086 [==============================] - 52s 48ms/step - loss: 0.1498 - accuracy: 0.9533 - val_loss: 0.8770 - val_accuracy: 0.8454\n",
      "Epoch 8/10\n",
      "1086/1086 [==============================] - 52s 47ms/step - loss: 0.1498 - accuracy: 0.9530 - val_loss: 1.1049 - val_accuracy: 0.8466\n",
      "Epoch 9/10\n",
      "1086/1086 [==============================] - 52s 48ms/step - loss: 0.1433 - accuracy: 0.9546 - val_loss: 0.8211 - val_accuracy: 0.8441\n",
      "Epoch 10/10\n",
      "1086/1086 [==============================] - 52s 48ms/step - loss: 0.1416 - accuracy: 0.9552 - val_loss: 0.9032 - val_accuracy: 0.8528\n",
      "INFO:tensorflow:Assets written to: C:\\Private\\BiomeVision\\model1-2022-07-06-lite-cache3\\assets\n",
      "Epoch 1/10\n",
      "1086/1086 [==============================] - 52s 48ms/step - loss: 0.1362 - accuracy: 0.9577 - val_loss: 1.0319 - val_accuracy: 0.8540\n",
      "Epoch 2/10\n",
      "1086/1086 [==============================] - 53s 48ms/step - loss: 0.1610 - accuracy: 0.9521 - val_loss: 1.0017 - val_accuracy: 0.8560\n",
      "Epoch 3/10\n",
      "1086/1086 [==============================] - 52s 48ms/step - loss: 0.1338 - accuracy: 0.9583 - val_loss: 1.1000 - val_accuracy: 0.8523\n",
      "Epoch 4/10\n",
      "1086/1086 [==============================] - 52s 48ms/step - loss: 0.1535 - accuracy: 0.9544 - val_loss: 0.9968 - val_accuracy: 0.8529\n",
      "Epoch 5/10\n",
      "1086/1086 [==============================] - 51s 47ms/step - loss: 0.1611 - accuracy: 0.9521 - val_loss: 1.0987 - val_accuracy: 0.8443\n",
      "Epoch 6/10\n",
      "1086/1086 [==============================] - 52s 48ms/step - loss: 0.1375 - accuracy: 0.9593 - val_loss: 0.9983 - val_accuracy: 0.8493\n",
      "Epoch 7/10\n",
      "1086/1086 [==============================] - 52s 47ms/step - loss: 0.1400 - accuracy: 0.9578 - val_loss: 1.0232 - val_accuracy: 0.8524\n",
      "Epoch 8/10\n",
      "1086/1086 [==============================] - 54s 49ms/step - loss: 0.1337 - accuracy: 0.9607 - val_loss: 1.1585 - val_accuracy: 0.8423\n",
      "Epoch 9/10\n",
      "1086/1086 [==============================] - 52s 48ms/step - loss: 0.1445 - accuracy: 0.9565 - val_loss: 1.2442 - val_accuracy: 0.8470\n",
      "Epoch 10/10\n",
      "1086/1086 [==============================] - 52s 47ms/step - loss: 0.1263 - accuracy: 0.9607 - val_loss: 1.2292 - val_accuracy: 0.8549\n",
      "INFO:tensorflow:Assets written to: C:\\Private\\BiomeVision\\model1-2022-07-06-lite-cache4\\assets\n"
     ]
    }
   ],
   "source": [
    "for i in range(4):\n",
    "    model.fit(\n",
    "        ds_train,\n",
    "        epochs=10,\n",
    "        validation_data=ds_validation,\n",
    "        verbose=1\n",
    "    )\n",
    "    model.save(\"C:\\Private\\BiomeVision\\model1-2022-07-06-lite-cache\" + str(i+1))"
   ],
   "metadata": {
    "collapsed": false,
    "pycharm": {
     "name": "#%%\n"
    }
   }
  },
  {
   "cell_type": "code",
   "execution_count": 33,
   "outputs": [
    {
     "name": "stdout",
     "output_type": "stream",
     "text": [
      "Epoch 1/10\n"
     ]
    },
    {
     "name": "stderr",
     "output_type": "stream",
     "text": [
      "C:\\Users\\jupit\\anaconda3\\envs\\tf\\lib\\site-packages\\tensorflow\\python\\util\\dispatch.py:1082: UserWarning: \"`sparse_categorical_crossentropy` received `from_logits=True`, but the `output` argument was produced by a sigmoid or softmax activation and thus does not represent logits. Was this intended?\"\n",
      "  return dispatch_target(*args, **kwargs)\n"
     ]
    },
    {
     "name": "stdout",
     "output_type": "stream",
     "text": [
      "  74/1478 [>.............................] - ETA: 1:07 - loss: 6.2027 - accuracy: 0.1242"
     ]
    },
    {
     "ename": "KeyboardInterrupt",
     "evalue": "",
     "output_type": "error",
     "traceback": [
      "\u001B[1;31m---------------------------------------------------------------------------\u001B[0m",
      "\u001B[1;31mKeyboardInterrupt\u001B[0m                         Traceback (most recent call last)",
      "Input \u001B[1;32mIn [33]\u001B[0m, in \u001B[0;36m<cell line: 1>\u001B[1;34m()\u001B[0m\n\u001B[1;32m----> 1\u001B[0m history \u001B[38;5;241m=\u001B[39m \u001B[43mmodel\u001B[49m\u001B[38;5;241;43m.\u001B[39;49m\u001B[43mfit\u001B[49m\u001B[43m(\u001B[49m\n\u001B[0;32m      2\u001B[0m \u001B[43m    \u001B[49m\u001B[43mds_train\u001B[49m\u001B[43m,\u001B[49m\n\u001B[0;32m      3\u001B[0m \u001B[43m    \u001B[49m\u001B[43mepochs\u001B[49m\u001B[38;5;241;43m=\u001B[39;49m\u001B[38;5;241;43m10\u001B[39;49m\u001B[43m,\u001B[49m\n\u001B[0;32m      4\u001B[0m \u001B[43m    \u001B[49m\u001B[43mvalidation_data\u001B[49m\u001B[38;5;241;43m=\u001B[39;49m\u001B[43mds_validation\u001B[49m\u001B[43m,\u001B[49m\n\u001B[0;32m      5\u001B[0m \u001B[43m    \u001B[49m\u001B[43mverbose\u001B[49m\u001B[38;5;241;43m=\u001B[39;49m\u001B[38;5;241;43m1\u001B[39;49m\n\u001B[0;32m      6\u001B[0m \u001B[43m)\u001B[49m\n",
      "File \u001B[1;32m~\\anaconda3\\envs\\tf\\lib\\site-packages\\keras\\utils\\traceback_utils.py:64\u001B[0m, in \u001B[0;36mfilter_traceback.<locals>.error_handler\u001B[1;34m(*args, **kwargs)\u001B[0m\n\u001B[0;32m     62\u001B[0m filtered_tb \u001B[38;5;241m=\u001B[39m \u001B[38;5;28;01mNone\u001B[39;00m\n\u001B[0;32m     63\u001B[0m \u001B[38;5;28;01mtry\u001B[39;00m:\n\u001B[1;32m---> 64\u001B[0m   \u001B[38;5;28;01mreturn\u001B[39;00m fn(\u001B[38;5;241m*\u001B[39margs, \u001B[38;5;241m*\u001B[39m\u001B[38;5;241m*\u001B[39mkwargs)\n\u001B[0;32m     65\u001B[0m \u001B[38;5;28;01mexcept\u001B[39;00m \u001B[38;5;167;01mException\u001B[39;00m \u001B[38;5;28;01mas\u001B[39;00m e:  \u001B[38;5;66;03m# pylint: disable=broad-except\u001B[39;00m\n\u001B[0;32m     66\u001B[0m   filtered_tb \u001B[38;5;241m=\u001B[39m _process_traceback_frames(e\u001B[38;5;241m.\u001B[39m__traceback__)\n",
      "File \u001B[1;32m~\\anaconda3\\envs\\tf\\lib\\site-packages\\keras\\engine\\training.py:1384\u001B[0m, in \u001B[0;36mModel.fit\u001B[1;34m(self, x, y, batch_size, epochs, verbose, callbacks, validation_split, validation_data, shuffle, class_weight, sample_weight, initial_epoch, steps_per_epoch, validation_steps, validation_batch_size, validation_freq, max_queue_size, workers, use_multiprocessing)\u001B[0m\n\u001B[0;32m   1377\u001B[0m \u001B[38;5;28;01mwith\u001B[39;00m tf\u001B[38;5;241m.\u001B[39mprofiler\u001B[38;5;241m.\u001B[39mexperimental\u001B[38;5;241m.\u001B[39mTrace(\n\u001B[0;32m   1378\u001B[0m     \u001B[38;5;124m'\u001B[39m\u001B[38;5;124mtrain\u001B[39m\u001B[38;5;124m'\u001B[39m,\n\u001B[0;32m   1379\u001B[0m     epoch_num\u001B[38;5;241m=\u001B[39mepoch,\n\u001B[0;32m   1380\u001B[0m     step_num\u001B[38;5;241m=\u001B[39mstep,\n\u001B[0;32m   1381\u001B[0m     batch_size\u001B[38;5;241m=\u001B[39mbatch_size,\n\u001B[0;32m   1382\u001B[0m     _r\u001B[38;5;241m=\u001B[39m\u001B[38;5;241m1\u001B[39m):\n\u001B[0;32m   1383\u001B[0m   callbacks\u001B[38;5;241m.\u001B[39mon_train_batch_begin(step)\n\u001B[1;32m-> 1384\u001B[0m   tmp_logs \u001B[38;5;241m=\u001B[39m \u001B[38;5;28;43mself\u001B[39;49m\u001B[38;5;241;43m.\u001B[39;49m\u001B[43mtrain_function\u001B[49m\u001B[43m(\u001B[49m\u001B[43miterator\u001B[49m\u001B[43m)\u001B[49m\n\u001B[0;32m   1385\u001B[0m   \u001B[38;5;28;01mif\u001B[39;00m data_handler\u001B[38;5;241m.\u001B[39mshould_sync:\n\u001B[0;32m   1386\u001B[0m     context\u001B[38;5;241m.\u001B[39masync_wait()\n",
      "File \u001B[1;32m~\\anaconda3\\envs\\tf\\lib\\site-packages\\tensorflow\\python\\util\\traceback_utils.py:150\u001B[0m, in \u001B[0;36mfilter_traceback.<locals>.error_handler\u001B[1;34m(*args, **kwargs)\u001B[0m\n\u001B[0;32m    148\u001B[0m filtered_tb \u001B[38;5;241m=\u001B[39m \u001B[38;5;28;01mNone\u001B[39;00m\n\u001B[0;32m    149\u001B[0m \u001B[38;5;28;01mtry\u001B[39;00m:\n\u001B[1;32m--> 150\u001B[0m   \u001B[38;5;28;01mreturn\u001B[39;00m fn(\u001B[38;5;241m*\u001B[39margs, \u001B[38;5;241m*\u001B[39m\u001B[38;5;241m*\u001B[39mkwargs)\n\u001B[0;32m    151\u001B[0m \u001B[38;5;28;01mexcept\u001B[39;00m \u001B[38;5;167;01mException\u001B[39;00m \u001B[38;5;28;01mas\u001B[39;00m e:\n\u001B[0;32m    152\u001B[0m   filtered_tb \u001B[38;5;241m=\u001B[39m _process_traceback_frames(e\u001B[38;5;241m.\u001B[39m__traceback__)\n",
      "File \u001B[1;32m~\\anaconda3\\envs\\tf\\lib\\site-packages\\tensorflow\\python\\eager\\def_function.py:915\u001B[0m, in \u001B[0;36mFunction.__call__\u001B[1;34m(self, *args, **kwds)\u001B[0m\n\u001B[0;32m    912\u001B[0m compiler \u001B[38;5;241m=\u001B[39m \u001B[38;5;124m\"\u001B[39m\u001B[38;5;124mxla\u001B[39m\u001B[38;5;124m\"\u001B[39m \u001B[38;5;28;01mif\u001B[39;00m \u001B[38;5;28mself\u001B[39m\u001B[38;5;241m.\u001B[39m_jit_compile \u001B[38;5;28;01melse\u001B[39;00m \u001B[38;5;124m\"\u001B[39m\u001B[38;5;124mnonXla\u001B[39m\u001B[38;5;124m\"\u001B[39m\n\u001B[0;32m    914\u001B[0m \u001B[38;5;28;01mwith\u001B[39;00m OptionalXlaContext(\u001B[38;5;28mself\u001B[39m\u001B[38;5;241m.\u001B[39m_jit_compile):\n\u001B[1;32m--> 915\u001B[0m   result \u001B[38;5;241m=\u001B[39m \u001B[38;5;28mself\u001B[39m\u001B[38;5;241m.\u001B[39m_call(\u001B[38;5;241m*\u001B[39margs, \u001B[38;5;241m*\u001B[39m\u001B[38;5;241m*\u001B[39mkwds)\n\u001B[0;32m    917\u001B[0m new_tracing_count \u001B[38;5;241m=\u001B[39m \u001B[38;5;28mself\u001B[39m\u001B[38;5;241m.\u001B[39mexperimental_get_tracing_count()\n\u001B[0;32m    918\u001B[0m without_tracing \u001B[38;5;241m=\u001B[39m (tracing_count \u001B[38;5;241m==\u001B[39m new_tracing_count)\n",
      "File \u001B[1;32m~\\anaconda3\\envs\\tf\\lib\\site-packages\\tensorflow\\python\\eager\\def_function.py:947\u001B[0m, in \u001B[0;36mFunction._call\u001B[1;34m(self, *args, **kwds)\u001B[0m\n\u001B[0;32m    944\u001B[0m   \u001B[38;5;28mself\u001B[39m\u001B[38;5;241m.\u001B[39m_lock\u001B[38;5;241m.\u001B[39mrelease()\n\u001B[0;32m    945\u001B[0m   \u001B[38;5;66;03m# In this case we have created variables on the first call, so we run the\u001B[39;00m\n\u001B[0;32m    946\u001B[0m   \u001B[38;5;66;03m# defunned version which is guaranteed to never create variables.\u001B[39;00m\n\u001B[1;32m--> 947\u001B[0m   \u001B[38;5;28;01mreturn\u001B[39;00m \u001B[38;5;28mself\u001B[39m\u001B[38;5;241m.\u001B[39m_stateless_fn(\u001B[38;5;241m*\u001B[39margs, \u001B[38;5;241m*\u001B[39m\u001B[38;5;241m*\u001B[39mkwds)  \u001B[38;5;66;03m# pylint: disable=not-callable\u001B[39;00m\n\u001B[0;32m    948\u001B[0m \u001B[38;5;28;01melif\u001B[39;00m \u001B[38;5;28mself\u001B[39m\u001B[38;5;241m.\u001B[39m_stateful_fn \u001B[38;5;129;01mis\u001B[39;00m \u001B[38;5;129;01mnot\u001B[39;00m \u001B[38;5;28;01mNone\u001B[39;00m:\n\u001B[0;32m    949\u001B[0m   \u001B[38;5;66;03m# Release the lock early so that multiple threads can perform the call\u001B[39;00m\n\u001B[0;32m    950\u001B[0m   \u001B[38;5;66;03m# in parallel.\u001B[39;00m\n\u001B[0;32m    951\u001B[0m   \u001B[38;5;28mself\u001B[39m\u001B[38;5;241m.\u001B[39m_lock\u001B[38;5;241m.\u001B[39mrelease()\n",
      "File \u001B[1;32m~\\anaconda3\\envs\\tf\\lib\\site-packages\\tensorflow\\python\\eager\\function.py:2956\u001B[0m, in \u001B[0;36mFunction.__call__\u001B[1;34m(self, *args, **kwargs)\u001B[0m\n\u001B[0;32m   2953\u001B[0m \u001B[38;5;28;01mwith\u001B[39;00m \u001B[38;5;28mself\u001B[39m\u001B[38;5;241m.\u001B[39m_lock:\n\u001B[0;32m   2954\u001B[0m   (graph_function,\n\u001B[0;32m   2955\u001B[0m    filtered_flat_args) \u001B[38;5;241m=\u001B[39m \u001B[38;5;28mself\u001B[39m\u001B[38;5;241m.\u001B[39m_maybe_define_function(args, kwargs)\n\u001B[1;32m-> 2956\u001B[0m \u001B[38;5;28;01mreturn\u001B[39;00m \u001B[43mgraph_function\u001B[49m\u001B[38;5;241;43m.\u001B[39;49m\u001B[43m_call_flat\u001B[49m\u001B[43m(\u001B[49m\n\u001B[0;32m   2957\u001B[0m \u001B[43m    \u001B[49m\u001B[43mfiltered_flat_args\u001B[49m\u001B[43m,\u001B[49m\u001B[43m \u001B[49m\u001B[43mcaptured_inputs\u001B[49m\u001B[38;5;241;43m=\u001B[39;49m\u001B[43mgraph_function\u001B[49m\u001B[38;5;241;43m.\u001B[39;49m\u001B[43mcaptured_inputs\u001B[49m\u001B[43m)\u001B[49m\n",
      "File \u001B[1;32m~\\anaconda3\\envs\\tf\\lib\\site-packages\\tensorflow\\python\\eager\\function.py:1853\u001B[0m, in \u001B[0;36mConcreteFunction._call_flat\u001B[1;34m(self, args, captured_inputs, cancellation_manager)\u001B[0m\n\u001B[0;32m   1849\u001B[0m possible_gradient_type \u001B[38;5;241m=\u001B[39m gradients_util\u001B[38;5;241m.\u001B[39mPossibleTapeGradientTypes(args)\n\u001B[0;32m   1850\u001B[0m \u001B[38;5;28;01mif\u001B[39;00m (possible_gradient_type \u001B[38;5;241m==\u001B[39m gradients_util\u001B[38;5;241m.\u001B[39mPOSSIBLE_GRADIENT_TYPES_NONE\n\u001B[0;32m   1851\u001B[0m     \u001B[38;5;129;01mand\u001B[39;00m executing_eagerly):\n\u001B[0;32m   1852\u001B[0m   \u001B[38;5;66;03m# No tape is watching; skip to running the function.\u001B[39;00m\n\u001B[1;32m-> 1853\u001B[0m   \u001B[38;5;28;01mreturn\u001B[39;00m \u001B[38;5;28mself\u001B[39m\u001B[38;5;241m.\u001B[39m_build_call_outputs(\u001B[38;5;28;43mself\u001B[39;49m\u001B[38;5;241;43m.\u001B[39;49m\u001B[43m_inference_function\u001B[49m\u001B[38;5;241;43m.\u001B[39;49m\u001B[43mcall\u001B[49m\u001B[43m(\u001B[49m\n\u001B[0;32m   1854\u001B[0m \u001B[43m      \u001B[49m\u001B[43mctx\u001B[49m\u001B[43m,\u001B[49m\u001B[43m \u001B[49m\u001B[43margs\u001B[49m\u001B[43m,\u001B[49m\u001B[43m \u001B[49m\u001B[43mcancellation_manager\u001B[49m\u001B[38;5;241;43m=\u001B[39;49m\u001B[43mcancellation_manager\u001B[49m\u001B[43m)\u001B[49m)\n\u001B[0;32m   1855\u001B[0m forward_backward \u001B[38;5;241m=\u001B[39m \u001B[38;5;28mself\u001B[39m\u001B[38;5;241m.\u001B[39m_select_forward_and_backward_functions(\n\u001B[0;32m   1856\u001B[0m     args,\n\u001B[0;32m   1857\u001B[0m     possible_gradient_type,\n\u001B[0;32m   1858\u001B[0m     executing_eagerly)\n\u001B[0;32m   1859\u001B[0m forward_function, args_with_tangents \u001B[38;5;241m=\u001B[39m forward_backward\u001B[38;5;241m.\u001B[39mforward()\n",
      "File \u001B[1;32m~\\anaconda3\\envs\\tf\\lib\\site-packages\\tensorflow\\python\\eager\\function.py:499\u001B[0m, in \u001B[0;36m_EagerDefinedFunction.call\u001B[1;34m(self, ctx, args, cancellation_manager)\u001B[0m\n\u001B[0;32m    497\u001B[0m \u001B[38;5;28;01mwith\u001B[39;00m _InterpolateFunctionError(\u001B[38;5;28mself\u001B[39m):\n\u001B[0;32m    498\u001B[0m   \u001B[38;5;28;01mif\u001B[39;00m cancellation_manager \u001B[38;5;129;01mis\u001B[39;00m \u001B[38;5;28;01mNone\u001B[39;00m:\n\u001B[1;32m--> 499\u001B[0m     outputs \u001B[38;5;241m=\u001B[39m \u001B[43mexecute\u001B[49m\u001B[38;5;241;43m.\u001B[39;49m\u001B[43mexecute\u001B[49m\u001B[43m(\u001B[49m\n\u001B[0;32m    500\u001B[0m \u001B[43m        \u001B[49m\u001B[38;5;28;43mstr\u001B[39;49m\u001B[43m(\u001B[49m\u001B[38;5;28;43mself\u001B[39;49m\u001B[38;5;241;43m.\u001B[39;49m\u001B[43msignature\u001B[49m\u001B[38;5;241;43m.\u001B[39;49m\u001B[43mname\u001B[49m\u001B[43m)\u001B[49m\u001B[43m,\u001B[49m\n\u001B[0;32m    501\u001B[0m \u001B[43m        \u001B[49m\u001B[43mnum_outputs\u001B[49m\u001B[38;5;241;43m=\u001B[39;49m\u001B[38;5;28;43mself\u001B[39;49m\u001B[38;5;241;43m.\u001B[39;49m\u001B[43m_num_outputs\u001B[49m\u001B[43m,\u001B[49m\n\u001B[0;32m    502\u001B[0m \u001B[43m        \u001B[49m\u001B[43minputs\u001B[49m\u001B[38;5;241;43m=\u001B[39;49m\u001B[43margs\u001B[49m\u001B[43m,\u001B[49m\n\u001B[0;32m    503\u001B[0m \u001B[43m        \u001B[49m\u001B[43mattrs\u001B[49m\u001B[38;5;241;43m=\u001B[39;49m\u001B[43mattrs\u001B[49m\u001B[43m,\u001B[49m\n\u001B[0;32m    504\u001B[0m \u001B[43m        \u001B[49m\u001B[43mctx\u001B[49m\u001B[38;5;241;43m=\u001B[39;49m\u001B[43mctx\u001B[49m\u001B[43m)\u001B[49m\n\u001B[0;32m    505\u001B[0m   \u001B[38;5;28;01melse\u001B[39;00m:\n\u001B[0;32m    506\u001B[0m     outputs \u001B[38;5;241m=\u001B[39m execute\u001B[38;5;241m.\u001B[39mexecute_with_cancellation(\n\u001B[0;32m    507\u001B[0m         \u001B[38;5;28mstr\u001B[39m(\u001B[38;5;28mself\u001B[39m\u001B[38;5;241m.\u001B[39msignature\u001B[38;5;241m.\u001B[39mname),\n\u001B[0;32m    508\u001B[0m         num_outputs\u001B[38;5;241m=\u001B[39m\u001B[38;5;28mself\u001B[39m\u001B[38;5;241m.\u001B[39m_num_outputs,\n\u001B[1;32m   (...)\u001B[0m\n\u001B[0;32m    511\u001B[0m         ctx\u001B[38;5;241m=\u001B[39mctx,\n\u001B[0;32m    512\u001B[0m         cancellation_manager\u001B[38;5;241m=\u001B[39mcancellation_manager)\n",
      "File \u001B[1;32m~\\anaconda3\\envs\\tf\\lib\\site-packages\\tensorflow\\python\\eager\\execute.py:54\u001B[0m, in \u001B[0;36mquick_execute\u001B[1;34m(op_name, num_outputs, inputs, attrs, ctx, name)\u001B[0m\n\u001B[0;32m     52\u001B[0m \u001B[38;5;28;01mtry\u001B[39;00m:\n\u001B[0;32m     53\u001B[0m   ctx\u001B[38;5;241m.\u001B[39mensure_initialized()\n\u001B[1;32m---> 54\u001B[0m   tensors \u001B[38;5;241m=\u001B[39m \u001B[43mpywrap_tfe\u001B[49m\u001B[38;5;241;43m.\u001B[39;49m\u001B[43mTFE_Py_Execute\u001B[49m\u001B[43m(\u001B[49m\u001B[43mctx\u001B[49m\u001B[38;5;241;43m.\u001B[39;49m\u001B[43m_handle\u001B[49m\u001B[43m,\u001B[49m\u001B[43m \u001B[49m\u001B[43mdevice_name\u001B[49m\u001B[43m,\u001B[49m\u001B[43m \u001B[49m\u001B[43mop_name\u001B[49m\u001B[43m,\u001B[49m\n\u001B[0;32m     55\u001B[0m \u001B[43m                                      \u001B[49m\u001B[43minputs\u001B[49m\u001B[43m,\u001B[49m\u001B[43m \u001B[49m\u001B[43mattrs\u001B[49m\u001B[43m,\u001B[49m\u001B[43m \u001B[49m\u001B[43mnum_outputs\u001B[49m\u001B[43m)\u001B[49m\n\u001B[0;32m     56\u001B[0m \u001B[38;5;28;01mexcept\u001B[39;00m core\u001B[38;5;241m.\u001B[39m_NotOkStatusException \u001B[38;5;28;01mas\u001B[39;00m e:\n\u001B[0;32m     57\u001B[0m   \u001B[38;5;28;01mif\u001B[39;00m name \u001B[38;5;129;01mis\u001B[39;00m \u001B[38;5;129;01mnot\u001B[39;00m \u001B[38;5;28;01mNone\u001B[39;00m:\n",
      "\u001B[1;31mKeyboardInterrupt\u001B[0m: "
     ]
    }
   ],
   "source": [
    "history = model.fit(\n",
    "    ds_train,\n",
    "    epochs=10,\n",
    "    validation_data=ds_validation,\n",
    "    verbose=1\n",
    ")"
   ],
   "metadata": {
    "collapsed": false,
    "pycharm": {
     "name": "#%%\n"
    }
   }
  },
  {
   "cell_type": "code",
   "execution_count": 20,
   "outputs": [
    {
     "name": "stdout",
     "output_type": "stream",
     "text": [
      "INFO:tensorflow:Assets written to: C:\\Private\\BiomeVision\\model1-2022-06-20-3-4pre\\assets\n"
     ]
    }
   ],
   "source": [
    "model.save(\"C:\\Private\\BiomeVision\\model1-2022-06-20-3-4pre\")"
   ],
   "metadata": {
    "collapsed": false,
    "pycharm": {
     "name": "#%%\n"
    }
   }
  },
  {
   "cell_type": "code",
   "execution_count": 34,
   "outputs": [
    {
     "name": "stdout",
     "output_type": "stream",
     "text": [
      "Model: \"sequential_3\"\n",
      "_________________________________________________________________\n",
      " Layer (type)                Output Shape              Param #   \n",
      "=================================================================\n",
      " max_pooling2d_5 (MaxPooling  (None, 128, 64, 3)       0         \n",
      " 2D)                                                             \n",
      "                                                                 \n",
      " conv2d_2 (Conv2D)           (None, 124, 60, 6)        456       \n",
      "                                                                 \n",
      " max_pooling2d_6 (MaxPooling  (None, 62, 30, 6)        0         \n",
      " 2D)                                                             \n",
      "                                                                 \n",
      " conv2d_3 (Conv2D)           (None, 58, 26, 16)        2416      \n",
      "                                                                 \n",
      " max_pooling2d_7 (MaxPooling  (None, 29, 13, 16)       0         \n",
      " 2D)                                                             \n",
      "                                                                 \n",
      " dropout_6 (Dropout)         (None, 29, 13, 16)        0         \n",
      "                                                                 \n",
      " flatten_3 (Flatten)         (None, 6032)              0         \n",
      "                                                                 \n",
      " dense_9 (Dense)             (None, 120)               723960    \n",
      "                                                                 \n",
      " dense_10 (Dense)            (None, 100)               12100     \n",
      "                                                                 \n",
      " dropout_7 (Dropout)         (None, 100)               0         \n",
      "                                                                 \n",
      " dense_11 (Dense)            (None, 18)                1818      \n",
      "                                                                 \n",
      "=================================================================\n",
      "Total params: 740,750\n",
      "Trainable params: 740,750\n",
      "Non-trainable params: 0\n",
      "_________________________________________________________________\n"
     ]
    }
   ],
   "source": [
    "model.summary()"
   ],
   "metadata": {
    "collapsed": false,
    "pycharm": {
     "name": "#%%\n"
    }
   }
  },
  {
   "cell_type": "code",
   "execution_count": 59,
   "outputs": [
    {
     "name": "stdout",
     "output_type": "stream",
     "text": [
      "Epoch 1/30\n",
      "2558/2558 [==============================] - 381s 149ms/step - loss: 3.3788 - accuracy: 0.2204 - val_loss: 2.2664 - val_accuracy: 0.3408\n",
      "Epoch 2/30\n",
      "2558/2558 [==============================] - 371s 145ms/step - loss: 2.2881 - accuracy: 0.3412 - val_loss: 2.4949 - val_accuracy: 0.3036\n",
      "Epoch 3/30\n",
      "2558/2558 [==============================] - 371s 145ms/step - loss: 1.9383 - accuracy: 0.4141 - val_loss: 1.9335 - val_accuracy: 0.4124\n",
      "Epoch 4/30\n",
      "2558/2558 [==============================] - 368s 144ms/step - loss: 1.6605 - accuracy: 0.4794 - val_loss: 1.5390 - val_accuracy: 0.5222\n",
      "Epoch 5/30\n",
      "2558/2558 [==============================] - 374s 146ms/step - loss: 1.5451 - accuracy: 0.5077 - val_loss: 1.6251 - val_accuracy: 0.4984\n",
      "Epoch 6/30\n",
      "2558/2558 [==============================] - 371s 145ms/step - loss: 1.4497 - accuracy: 0.5334 - val_loss: 1.4795 - val_accuracy: 0.5366\n",
      "Epoch 7/30\n",
      "2558/2558 [==============================] - 374s 146ms/step - loss: 1.4154 - accuracy: 0.5460 - val_loss: 1.4853 - val_accuracy: 0.5418\n",
      "Epoch 8/30\n",
      "2558/2558 [==============================] - 374s 146ms/step - loss: 1.3681 - accuracy: 0.5576 - val_loss: 1.4775 - val_accuracy: 0.5424\n",
      "Epoch 9/30\n",
      "2558/2558 [==============================] - 374s 146ms/step - loss: 1.3308 - accuracy: 0.5711 - val_loss: 1.6308 - val_accuracy: 0.5211\n",
      "Epoch 10/30\n",
      "2558/2558 [==============================] - 376s 147ms/step - loss: 1.3061 - accuracy: 0.5797 - val_loss: 1.6052 - val_accuracy: 0.5327\n",
      "Epoch 11/30\n",
      "2558/2558 [==============================] - 378s 148ms/step - loss: 1.2775 - accuracy: 0.5913 - val_loss: 1.7974 - val_accuracy: 0.5233\n",
      "Epoch 12/30\n",
      "2558/2558 [==============================] - 379s 148ms/step - loss: 1.2907 - accuracy: 0.5892 - val_loss: 1.5842 - val_accuracy: 0.5342\n",
      "Epoch 13/30\n",
      "2558/2558 [==============================] - 380s 148ms/step - loss: 1.2443 - accuracy: 0.6049 - val_loss: 1.6154 - val_accuracy: 0.5354\n",
      "Epoch 14/30\n",
      "2558/2558 [==============================] - 381s 149ms/step - loss: 1.2312 - accuracy: 0.6118 - val_loss: 1.6737 - val_accuracy: 0.5275\n",
      "Epoch 15/30\n",
      "2558/2558 [==============================] - 382s 150ms/step - loss: 1.1827 - accuracy: 0.6233 - val_loss: 1.7878 - val_accuracy: 0.5157\n",
      "Epoch 16/30\n",
      "2558/2558 [==============================] - 384s 150ms/step - loss: 1.1963 - accuracy: 0.6239 - val_loss: 1.8477 - val_accuracy: 0.5243\n",
      "Epoch 17/30\n",
      "2558/2558 [==============================] - 385s 150ms/step - loss: 1.3787 - accuracy: 0.5839 - val_loss: 1.8424 - val_accuracy: 0.5301\n",
      "Epoch 18/30\n",
      "2558/2558 [==============================] - 384s 150ms/step - loss: 1.1973 - accuracy: 0.6286 - val_loss: 1.7457 - val_accuracy: 0.5292\n",
      "Epoch 19/30\n",
      "2558/2558 [==============================] - 387s 151ms/step - loss: 1.2365 - accuracy: 0.6209 - val_loss: 2.0523 - val_accuracy: 0.5170\n",
      "Epoch 20/30\n",
      "2558/2558 [==============================] - 386s 151ms/step - loss: 1.1916 - accuracy: 0.6317 - val_loss: 1.7735 - val_accuracy: 0.5202\n",
      "Epoch 21/30\n",
      "2558/2558 [==============================] - 387s 151ms/step - loss: 1.2110 - accuracy: 0.6342 - val_loss: 1.9023 - val_accuracy: 0.5110\n",
      "Epoch 22/30\n",
      "2558/2558 [==============================] - 388s 152ms/step - loss: 1.1343 - accuracy: 0.6485 - val_loss: 1.9848 - val_accuracy: 0.4806\n",
      "Epoch 23/30\n",
      "2558/2558 [==============================] - 386s 151ms/step - loss: 1.1476 - accuracy: 0.6479 - val_loss: 1.9203 - val_accuracy: 0.5344\n",
      "Epoch 24/30\n",
      "2558/2558 [==============================] - 386s 151ms/step - loss: 3.0268 - accuracy: 0.1967 - val_loss: 2.7948 - val_accuracy: 0.2062\n",
      "Epoch 25/30\n",
      "2558/2558 [==============================] - 385s 151ms/step - loss: 2.8672 - accuracy: 0.1933 - val_loss: 2.6050 - val_accuracy: 0.2567\n",
      "Epoch 26/30\n",
      "2558/2558 [==============================] - 386s 151ms/step - loss: 2.6534 - accuracy: 0.2523 - val_loss: 2.2691 - val_accuracy: 0.3379\n",
      "Epoch 27/30\n",
      "2558/2558 [==============================] - 385s 150ms/step - loss: 2.4435 - accuracy: 0.3003 - val_loss: 2.1778 - val_accuracy: 0.3398\n",
      "Epoch 28/30\n",
      "2558/2558 [==============================] - 387s 151ms/step - loss: 2.2559 - accuracy: 0.3398 - val_loss: 2.0126 - val_accuracy: 0.3770\n",
      "Epoch 29/30\n",
      "2558/2558 [==============================] - 388s 152ms/step - loss: 2.1636 - accuracy: 0.3586 - val_loss: 2.0046 - val_accuracy: 0.3974\n",
      "Epoch 30/30\n",
      "2558/2558 [==============================] - 387s 151ms/step - loss: 2.1084 - accuracy: 0.3675 - val_loss: 1.9157 - val_accuracy: 0.4104\n"
     ]
    }
   ],
   "source": [
    "history = model.fit(\n",
    "    ds_train,\n",
    "    epochs=30,\n",
    "    validation_data=ds_validation,\n",
    "    verbose=1\n",
    ")"
   ],
   "metadata": {
    "collapsed": false,
    "pycharm": {
     "name": "#%%\n"
    }
   }
  },
  {
   "cell_type": "code",
   "execution_count": 27,
   "outputs": [
    {
     "name": "stdout",
     "output_type": "stream",
     "text": [
      "[[1.34588988e-03 9.98654127e-01 3.94085487e-17 ... 1.27000214e-20\n",
      "  2.13002097e-19 5.31516638e-19]\n",
      " [1.00000000e+00 5.19166963e-25 0.00000000e+00 ... 0.00000000e+00\n",
      "  0.00000000e+00 0.00000000e+00]\n",
      " [0.00000000e+00 1.00000000e+00 0.00000000e+00 ... 0.00000000e+00\n",
      "  0.00000000e+00 0.00000000e+00]\n",
      " ...\n",
      " [0.00000000e+00 1.00000000e+00 0.00000000e+00 ... 0.00000000e+00\n",
      "  0.00000000e+00 0.00000000e+00]\n",
      " [5.94551110e-19 1.00000000e+00 0.00000000e+00 ... 0.00000000e+00\n",
      "  0.00000000e+00 0.00000000e+00]\n",
      " [9.99995112e-01 4.93750258e-06 1.04807518e-35 ... 0.00000000e+00\n",
      "  0.00000000e+00 1.82774036e-36]]\n"
     ]
    }
   ],
   "source": [
    "predictions = model.predict(ds_validation)\n",
    "print(predictions)"
   ],
   "metadata": {
    "collapsed": false,
    "pycharm": {
     "name": "#%%\n"
    }
   }
  },
  {
   "cell_type": "code",
   "execution_count": 29,
   "outputs": [
    {
     "data": {
      "text/plain": "[0.07773324847221375, 0.982538640499115]"
     },
     "execution_count": 29,
     "metadata": {},
     "output_type": "execute_result"
    }
   ],
   "source": [
    "model.evaluate(ds_validation, verbose=0)"
   ],
   "metadata": {
    "collapsed": false,
    "pycharm": {
     "name": "#%%\n"
    }
   }
  },
  {
   "cell_type": "code",
   "execution_count": 60,
   "outputs": [
    {
     "data": {
      "text/plain": "<Figure size 432x288 with 1 Axes>",
      "image/png": "[encoded data removed]"
     },
     "metadata": {
      "needs_background": "light"
     },
     "output_type": "display_data"
    }
   ],
   "source": [
    "plt.plot(history.history['accuracy'], label='Trainingsdaten')\n",
    "plt.plot(history.history['val_accuracy'], label = 'Testdaten')\n",
    "plt.xlabel('Epoch'), plt.ylabel('Accuracy'), plt.legend(loc='lower right')\n",
    "plt.show()"
   ],
   "metadata": {
    "collapsed": false,
    "pycharm": {
     "name": "#%%\n"
    }
   }
  }
 ],
 "metadata": {
  "kernelspec": {
   "display_name": "Python 3",
   "language": "python",
   "name": "python3"
  },
  "language_info": {
   "codemirror_mode": {
    "name": "ipython",
    "version": 2
   },
   "file_extension": ".py",
   "mimetype": "text/x-python",
   "name": "python",
   "nbconvert_exporter": "python",
   "pygments_lexer": "ipython2",
   "version": "2.7.6"
  }
 },
 "nbformat": 4,
 "nbformat_minor": 0
}