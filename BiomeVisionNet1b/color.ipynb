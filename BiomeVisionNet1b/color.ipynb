{
 "cells": [
  {
   "cell_type": "code",
   "execution_count": 2,
   "outputs": [],
   "source": [
    "import math\n",
    "import time\n",
    "import numpy as np\n",
    "import tensorflow as tf\n",
    "from PIL import Image\n",
    "import colorsys"
   ],
   "metadata": {
    "collapsed": false,
    "pycharm": {
     "name": "#%%\n"
    }
   }
  },
  {
   "cell_type": "code",
   "execution_count": 3,
   "outputs": [],
   "source": [
    "image = Image.open(\"../BiomeVisionPreprocessor/red.png\")\n",
    "# image = image.resize((256, 128))"
   ],
   "metadata": {
    "collapsed": false,
    "pycharm": {
     "name": "#%%\n"
    }
   }
  },
  {
   "cell_type": "code",
   "execution_count": 5,
   "outputs": [],
   "source": [
    "image.show()"
   ],
   "metadata": {
    "collapsed": false,
    "pycharm": {
     "name": "#%%\n"
    }
   }
  },
  {
   "cell_type": "code",
   "execution_count": 6,
   "outputs": [],
   "source": [
    "img_mat = tf.keras.preprocessing.image.img_to_array(image)\n",
    "inputs = tf.convert_to_tensor(np.expand_dims(img_mat, axis=0))"
   ],
   "metadata": {
    "collapsed": false,
    "pycharm": {
     "name": "#%%\n"
    }
   }
  },
  {
   "cell_type": "code",
   "execution_count": 143,
   "outputs": [
    {
     "name": "stdout",
     "output_type": "stream",
     "text": [
      "9901\n"
     ]
    }
   ],
   "source": [
    "colors = []\n",
    "\n",
    "for hue in range(360):\n",
    "    for saturation in range(100):\n",
    "        for value in range(100):\n",
    "            hue = math.floor(hue * 5) / 5\n",
    "            saturation = math.floor(saturation * 5) / 5\n",
    "            value = math.floor(value * 3) / 3\n",
    "\n",
    "            color = colorsys.hsv_to_rgb(hue, saturation, value)\n",
    "            if not color in colors:\n",
    "                colors.append(color)\n",
    "\n",
    "print(len(colors))"
   ],
   "metadata": {
    "collapsed": false,
    "pycharm": {
     "name": "#%%\n"
    }
   }
  },
  {
   "cell_type": "code",
   "execution_count": 98,
   "outputs": [
    {
     "name": "stdout",
     "output_type": "stream",
     "text": [
      "0.005000114440917969\n",
      "0.005001068115234375\n",
      "0.005001068115234375\n",
      "0.005001544952392578\n",
      "0.005000591278076172\n",
      "0.005001544952392578\n",
      "0.0050008296966552734\n",
      "0.0050013065338134766\n",
      "0.007001638412475586\n",
      "0.0050008296966552734\n",
      "(0.0052010536193847655, 7.797681588283006e-06, 0.015969651892803596, 798.4825946401799, 13.308043244002997)\n"
     ]
    }
   ],
   "source": [
    "measurements_count = 10\n",
    "times = []\n",
    "for i in range(measurements_count):\n",
    "\n",
    "    start_time = time.time()\n",
    "\n",
    "    colors = {}\n",
    "\n",
    "    for pixel in inputs.numpy().reshape(-1, 3):\n",
    "        (hue, saturation, value) = colorsys.rgb_to_hsv(pixel[0], pixel[1], pixel[2])\n",
    "\n",
    "        hue = math.floor(hue * 5) / 5\n",
    "        saturation = math.floor(saturation * 5) / 5\n",
    "        value = math.floor(value * 3) / 3\n",
    "\n",
    "        color = colorsys.hsv_to_rgb(hue, saturation, value)\n",
    "        # if color in colors.keys():\n",
    "        #     colors[color] += 1\n",
    "        # else:\n",
    "        colors[color] = 1\n",
    "        # print(pixel)\n",
    "        # print(color)\n",
    "\n",
    "    arr = np.array(list(colors.values()))\n",
    "    arr = arr / ( np.zeros(arr.shape) + (len(inputs.numpy().flatten()) / 3) )\n",
    "    result = tf.convert_to_tensor(arr)\n",
    "\n",
    "    total_time = time.time() - start_time\n",
    "    times.append(total_time)\n",
    "\n",
    "total_times = 0\n",
    "for total_time in times:\n",
    "    print(total_time)\n",
    "    total_times = total_times + total_time\n",
    "total_times /= measurements_count\n",
    "tpp = total_times / (len(inputs.numpy().flatten()) / 3)\n",
    "tpi = tpp * 128 * 64 * 0.25  # * 256 * 128\n",
    "print((total_times, tpp, tpi, tpi * 50000, tpi * 50000 / 60))"
   ],
   "metadata": {
    "collapsed": false,
    "pycharm": {
     "name": "#%%\n"
    }
   }
  },
  {
   "cell_type": "code",
   "execution_count": 168,
   "outputs": [
    {
     "name": "stdout",
     "output_type": "stream",
     "text": [
      "tf.Tensor([0. 0. 0. ... 0. 0. 0.], shape=(17576,), dtype=float64)\n",
      "0.010005950927734375\n",
      "(0.010005950927734375, 1.5001425678762182e-05, 0.030722919790104948, 1536.1459895052474, 25.60243315842079)\n"
     ]
    }
   ],
   "source": [
    "measurements_count = 1\n",
    "times = []\n",
    "for i in range(measurements_count):\n",
    "\n",
    "    start_time = time.time()\n",
    "\n",
    "    colors = {}\n",
    "\n",
    "    for r in range(26):\n",
    "        r = r * 10\n",
    "        for g in range(26):\n",
    "            g = g * 10\n",
    "            for b in range(26):\n",
    "                b = b * 10\n",
    "                color = (r, g, b)\n",
    "                # print(color)\n",
    "                colors[color] = 0\n",
    "\n",
    "    # print(colors)\n",
    "\n",
    "    if hasattr(inputs, \"numpy\"):\n",
    "        for pixel in inputs.numpy().reshape(-1, 3):\n",
    "            (r, g, b) = pixel[0], pixel[1], pixel[2]\n",
    "            r = math.floor(r / 10) * 10\n",
    "            g = math.floor(g / 10) * 10\n",
    "            b = math.floor(b / 10) * 10\n",
    "            color = (float(r), float(g), float(b))\n",
    "            # print(color)\n",
    "            colors[color] += 1\n",
    "\n",
    "    # print(colors)\n",
    "\n",
    "    arr = np.array(list(colors.values()))\n",
    "    arr = arr / ( np.zeros(arr.shape) + (len(inputs.numpy().flatten()) / 3) )\n",
    "    result = tf.convert_to_tensor(arr)\n",
    "\n",
    "    print(result)\n",
    "\n",
    "    total_time = time.time() - start_time\n",
    "    times.append(total_time)\n",
    "\n",
    "total_times = 0\n",
    "for total_time in times:\n",
    "    print(total_time)\n",
    "    total_times = total_times + total_time\n",
    "total_times /= measurements_count\n",
    "tpp = total_times / (len(inputs.numpy().flatten()) / 3)\n",
    "tpi = tpp * 128 * 64 * 0.25  # * 256 * 128\n",
    "print((total_times, tpp, tpi, tpi * 50000, tpi * 50000 / 60))"
   ],
   "metadata": {
    "collapsed": false,
    "pycharm": {
     "name": "#%%\n"
    }
   }
  },
  {
   "cell_type": "code",
   "execution_count": 109,
   "outputs": [],
   "source": [
    "arr = np.array(list(colors.values()))\n",
    "arr = arr / ( np.zeros(arr.shape) + (len(inputs.numpy().flatten()) / 3) )"
   ],
   "metadata": {
    "collapsed": false,
    "pycharm": {
     "name": "#%%\n"
    }
   }
  },
  {
   "cell_type": "code",
   "execution_count": 141,
   "outputs": [
    {
     "data": {
      "text/plain": "<tf.Tensor: shape=(2,), dtype=float64, numpy=array([0.00149925, 0.00149925])>"
     },
     "execution_count": 141,
     "metadata": {},
     "output_type": "execute_result"
    }
   ],
   "source": [
    "tf.convert_to_tensor(arr)"
   ],
   "metadata": {
    "collapsed": false,
    "pycharm": {
     "name": "#%%\n"
    }
   }
  },
  {
   "cell_type": "code",
   "execution_count": 219,
   "outputs": [
    {
     "data": {
      "text/plain": "(667, 3)"
     },
     "execution_count": 219,
     "metadata": {},
     "output_type": "execute_result"
    }
   ],
   "source": [
    "i = inputs.numpy()\n",
    "i.reshape(-1, 3).shape"
   ],
   "metadata": {
    "collapsed": false,
    "pycharm": {
     "name": "#%%\n"
    }
   }
  }
 ],
 "metadata": {
  "kernelspec": {
   "display_name": "Python 3",
   "language": "python",
   "name": "python3"
  },
  "language_info": {
   "codemirror_mode": {
    "name": "ipython",
    "version": 2
   },
   "file_extension": ".py",
   "mimetype": "text/x-python",
   "name": "python",
   "nbconvert_exporter": "python",
   "pygments_lexer": "ipython2",
   "version": "2.7.6"
  }
 },
 "nbformat": 4,
 "nbformat_minor": 0
}